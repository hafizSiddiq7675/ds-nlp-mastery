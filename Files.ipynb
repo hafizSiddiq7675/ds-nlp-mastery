{
 "cells": [
  {
   "cell_type": "markdown",
   "id": "addc4331-7289-454a-837e-1da7c74e291f",
   "metadata": {},
   "source": [
    "# Reading file"
   ]
  },
  {
   "cell_type": "code",
   "execution_count": 27,
   "id": "e4096715-81db-4110-a90f-3ef8e39ad0b9",
   "metadata": {},
   "outputs": [
    {
     "name": "stdout",
     "output_type": "stream",
     "text": [
      "congratulations on reading your first file!\n"
     ]
    }
   ],
   "source": [
    "with open('welcome.txt') as text_file:\n",
    "  text_data = text_file.read()\n",
    "  print(text_data)"
   ]
  },
  {
   "cell_type": "code",
   "execution_count": 28,
   "id": "14ca5ab5-150d-4a98-ba01-15683d0b4a58",
   "metadata": {},
   "outputs": [
    {
     "name": "stdout",
     "output_type": "stream",
     "text": [
      "1. How many lines do we write on the daily,\n",
      "\n",
      "2. Many money, we write many many many\n",
      "\n",
      "3. How many lines do you write on the daily,\n",
      "\n",
      "4. Say you say many money, you write many many many\n",
      "\n"
     ]
    }
   ],
   "source": [
    "with open(\"how_many_lines.txt\") as lines_doc:\n",
    "  for i in lines_doc.readlines():\n",
    "    print(i)"
   ]
  },
  {
   "cell_type": "code",
   "execution_count": 29,
   "id": "131957f2-e55c-4cf4-b52b-264ddca17384",
   "metadata": {},
   "outputs": [
    {
     "name": "stdout",
     "output_type": "stream",
     "text": [
      "1. How many lines do we write on the daily,\n",
      "\n"
     ]
    }
   ],
   "source": [
    "with open(\"how_many_lines.txt\") as first_line_doc:\n",
    "  first_line = first_line_doc.readline()\n",
    "  print(first_line)"
   ]
  },
  {
   "cell_type": "markdown",
   "id": "5ce83ee8-4c6e-4f1e-81b8-48e16c30f7ae",
   "metadata": {},
   "source": [
    "# Writing a file"
   ]
  },
  {
   "cell_type": "code",
   "execution_count": 30,
   "id": "701b8528-05de-499d-909e-232241ab1be2",
   "metadata": {},
   "outputs": [],
   "source": [
    "with open(\"bad_bands.txt\", \"w\") as bad_bands_doc:\n",
    "  bad_bands_doc.write(\"bad_bands\")"
   ]
  },
  {
   "cell_type": "code",
   "execution_count": 32,
   "id": "8fc40c7f-a243-4b38-ab4c-a0fa3b9d60fe",
   "metadata": {},
   "outputs": [],
   "source": [
    "with open(\"cool_dogs.txt\", \"a\") as cool_dogs_file:\n",
    "  cool_dogs_file.write(\"Air Buddy\\n\")"
   ]
  },
  {
   "cell_type": "markdown",
   "id": "8d4d028f-0bfb-4f04-8402-4535416b900b",
   "metadata": {},
   "source": [
    "# What's With \"with\"\n",
    "\n",
    "with keyword invokes something called a context manager for the file that we’re calling open() on. This context manager takes care of opening the file when we call open() and then closing the file after we leave the indented block."
   ]
  },
  {
   "cell_type": "code",
   "execution_count": 10,
   "id": "0a197da7-8f40-46ef-a255-98642da3f73b",
   "metadata": {},
   "outputs": [
    {
     "name": "stdout",
     "output_type": "stream",
     "text": [
      "What did the pirate say when he turned 80?\n",
      "\n"
     ]
    }
   ],
   "source": [
    "with open(\"fun_file.txt\") as close_this_file:\n",
    "  setup = close_this_file.readline()\n",
    "  punchline = close_this_file.readline()\n",
    "\n",
    "print(setup)"
   ]
  },
  {
   "cell_type": "markdown",
   "id": "c2b028eb-e993-4790-9bdb-4e0c809a8497",
   "metadata": {},
   "source": [
    "# What is a CSV file\n",
    "\n",
    "CSV files are an example of a text file that impose a structure to their data."
   ]
  },
  {
   "cell_type": "code",
   "execution_count": 12,
   "id": "a1766b77-e4a8-4ef2-b4db-87445706ea31",
   "metadata": {},
   "outputs": [
    {
     "name": "stdout",
     "output_type": "stream",
     "text": [
      "Name,Age,ID\n",
      "Richard Andrews,43,0de2ecf31df2386377b1d2dc4fae8b16fad05ad0         \n",
      "Hailey Sellers,24,3d9b8a95458c1df2687191e8146a97ca4afb28aa          \n",
      "Jessica Pace,39,a5daa63ef893cb86bc8df1110cc9a5f8e1d0c563            \n",
      "Jasmine Escobar,42,9844e403841ec84b9a2fb3caf9d2a1c9ee042d31         \n",
      "Karen Kelly,26,8338f76ac0e9a76d73d57790f1d9843b185b5428             \n",
      "Patricia Christensen,70,23099bb630c1c64989458393045f08de3bac0eb9    \n",
      "Jessica Hansen,24,a8c035ccd099ef909a46e0d96b76c0f132c9c562          \n",
      "Raymond Adams,53,a051901830ff6c2095524ef92b1541eef9f8c64d           \n",
      "Stephanie Morrow,53,3bad04a5fc0a7ec33735ae45535f354887988f35        \n",
      "Timothy Ramos,34,b4930920b5256c4e592541297e43a556c8fe33a8 \n",
      "\n",
      "\n"
     ]
    }
   ],
   "source": [
    "with open(\"logger.csv\") as log_csv_file:\n",
    "  print(log_csv_file.read())"
   ]
  },
  {
   "cell_type": "code",
   "execution_count": 16,
   "id": "bc92813c-03db-423a-a929-356a6a6669ee",
   "metadata": {},
   "outputs": [
    {
     "name": "stdout",
     "output_type": "stream",
     "text": [
      "Has never been out of the country.\n",
      "Published a small biography on a local legend.\n",
      "Happened across a major movie star while biking once.\n",
      "Once ate three packages of cookies in one sitting.\n",
      "Has been to over fifteen different forests.\n",
      "Old job was across the street from their new job.\n",
      "Has a dog named Peanut.\n",
      "While working a phone bank accidentally called their mother.\n",
      "Can whistle the national anthem of twelve different nations.\n",
      "Is triple-jointed.\n"
     ]
    }
   ],
   "source": [
    "import csv\n",
    "\n",
    "with open(\"cool_csv.csv\") as cool_csv_file:\n",
    "  cool_csv_dict = csv.DictReader(cool_csv_file)\n",
    "  for row in cool_csv_dict:\n",
    "    print(row['Cool Fact'])"
   ]
  },
  {
   "cell_type": "code",
   "execution_count": 22,
   "id": "b5c8fe57-4497-4c44-811d-8266438eaf70",
   "metadata": {},
   "outputs": [],
   "source": [
    "import csv\n",
    "\n",
    "with open(\"books.csv\") as books_csv:\n",
    "  books_reader = csv.DictReader(books_csv, delimiter= '@')\n",
    "  isbn_list = [book['ISBN'] for book in books_reader]\n"
   ]
  },
  {
   "cell_type": "code",
   "execution_count": 18,
   "id": "629a5696-4650-4b4d-8c62-443add27991e",
   "metadata": {},
   "outputs": [
    {
     "name": "stdout",
     "output_type": "stream",
     "text": [
      "['978-0-12-995015-8', '978-1-78110-100-1', '978-0-315-25137-3', '978-0-388-70665-7', '978-1-75098-721-6', '978-1-06-483628-6', '978-0-7419-8114-1', '978-1-4457-0480-7', '978-0-657-61030-2', '978-1-5039-7539-2']\n"
     ]
    }
   ],
   "source": [
    "print(isbn_list)"
   ]
  },
  {
   "cell_type": "code",
   "execution_count": 23,
   "id": "0bbbcdf6-1a91-4d80-ace4-a401526951cb",
   "metadata": {},
   "outputs": [],
   "source": [
    "access_log = [{'time': '08:39:37', 'limit': 844404, 'address': '1.227.124.181'}, {'time': '13:13:35', 'limit': 543871, 'address': '198.51.139.193'}, {'time': '19:40:45', 'limit': 3021, 'address': '172.1.254.208'}, {'time': '18:57:16', 'limit': 67031769, 'address': '172.58.247.219'}, {'time': '21:17:13', 'limit': 9083, 'address': '124.144.20.113'}, {'time': '23:34:17', 'limit': 65913, 'address': '203.236.149.220'}, {'time': '13:58:05', 'limit': 1541474, 'address': '192.52.206.76'}, {'time': '10:52:00', 'limit': 11465607, 'address': '104.47.149.93'}, {'time': '14:56:12', 'limit': 109, 'address': '192.31.185.7'}, {'time': '18:56:35', 'limit': 6207, 'address': '2.228.164.197'}]\n",
    "fields = ['time', 'address', 'limit']\n",
    "\n",
    "\n",
    "# step 1\n",
    "import csv\n",
    "\n",
    "# step 2\n",
    "\n",
    "with open(\"logger.csv\", 'w') as logger_csv:\n",
    "  # step 3\n",
    "  log_writer = csv.DictWriter(logger_csv, fieldnames = fields)\n",
    "  # step 4\n",
    "  log_writer.writeheader()\n",
    "  for item in access_log:\n",
    "    log_writer.writerow(item)\n"
   ]
  },
  {
   "cell_type": "markdown",
   "id": "09aa73e9-6b0e-44b8-b657-efab8344ef60",
   "metadata": {},
   "source": [
    "# Reading a JSON File"
   ]
  },
  {
   "cell_type": "code",
   "execution_count": 24,
   "id": "1375ca3b-80b8-4d6a-9637-1e3d4b627ab2",
   "metadata": {},
   "outputs": [
    {
     "name": "stdout",
     "output_type": "stream",
     "text": [
      "Now that's JSON!\n"
     ]
    }
   ],
   "source": [
    "import json\n",
    "\n",
    "with open(\"message.json\") as message_json:\n",
    "  message = json.load(message_json)\n",
    "  print(message['text'])"
   ]
  },
  {
   "cell_type": "markdown",
   "id": "3d5214d0-22de-4aec-b4ac-9e4a510e7f3c",
   "metadata": {},
   "source": [
    "# Writing a JSON File"
   ]
  },
  {
   "cell_type": "code",
   "execution_count": 25,
   "id": "501eb594-aa12-45f9-9e10-1c1d4fa4ead6",
   "metadata": {},
   "outputs": [],
   "source": [
    "turn_to_json = {\n",
    "  'eventId': 674189,\n",
    "  'dateTime': '2015-02-12T09:23:17.511Z',\n",
    "  'chocolate': 'Semi-sweet Dark',\n",
    "  'isTomatoAFruit': True\n",
    "}"
   ]
  },
  {
   "cell_type": "code",
   "execution_count": 26,
   "id": "3972d774-7368-4a2f-9330-7f6f57ff61f8",
   "metadata": {},
   "outputs": [],
   "source": [
    "import json\n",
    " \n",
    "with open('output.json', 'w') as json_file:\n",
    "  json.dump(turn_to_json, json_file)"
   ]
  },
  {
   "cell_type": "code",
   "execution_count": null,
   "id": "74b9e74e-fbc4-4947-bafc-4d6bf0c7dd7a",
   "metadata": {},
   "outputs": [],
   "source": []
  }
 ],
 "metadata": {
  "kernelspec": {
   "display_name": "Python 3 (ipykernel)",
   "language": "python",
   "name": "python3"
  },
  "language_info": {
   "codemirror_mode": {
    "name": "ipython",
    "version": 3
   },
   "file_extension": ".py",
   "mimetype": "text/x-python",
   "name": "python",
   "nbconvert_exporter": "python",
   "pygments_lexer": "ipython3",
   "version": "3.10.9"
  }
 },
 "nbformat": 4,
 "nbformat_minor": 5
}
