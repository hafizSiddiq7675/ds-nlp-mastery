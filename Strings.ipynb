{
 "cells": [
  {
   "cell_type": "markdown",
   "id": "d566cbcc-96b5-47de-9e63-71a511804435",
   "metadata": {},
   "source": [
    "# What are stings?\n",
    "\n",
    "In Python, the way we store something like a word, a sentence, or even a whole paragraph is as a string, A string is a sequence of characters contained within a pair of 'single quotes' or \"double quotes\""
   ]
  },
  {
   "cell_type": "code",
   "execution_count": 16,
   "id": "3627c49c-ef76-46a5-8fab-72c95be8c118",
   "metadata": {},
   "outputs": [
    {
     "name": "stdout",
     "output_type": "stream",
     "text": [
      "hello\n"
     ]
    }
   ],
   "source": [
    "favorite_word = \"hello\"\n",
    "print(favorite_word)"
   ]
  },
  {
   "cell_type": "markdown",
   "id": "be251cb5-35c0-48ab-9aee-d2666353d5cd",
   "metadata": {},
   "source": [
    "# Strings are actually lists"
   ]
  },
  {
   "cell_type": "code",
   "execution_count": 17,
   "id": "f2fb4c1c-ad57-4f71-960b-a0e8b13f6a84",
   "metadata": {},
   "outputs": [
    {
     "data": {
      "text/plain": [
       "'h'"
      ]
     },
     "execution_count": 17,
     "metadata": {},
     "output_type": "execute_result"
    }
   ],
   "source": [
    "favorite_word[0]"
   ]
  },
  {
   "cell_type": "markdown",
   "id": "387a2a03-2fa7-4d56-a350-c6085662b711",
   "metadata": {},
   "source": [
    "# Can also cut a slice of List"
   ]
  },
  {
   "cell_type": "code",
   "execution_count": 18,
   "id": "c3aaac85-96d0-448f-8be9-2ebb0b7118d1",
   "metadata": {},
   "outputs": [
    {
     "name": "stdout",
     "output_type": "stream",
     "text": [
      "Villa\n",
      "nueva\n",
      "llan\n"
     ]
    }
   ],
   "source": [
    "first_name = \"Rodrigo\"\n",
    "last_name = \"Villanueva\"\n",
    "\n",
    "new_account = last_name[:5]\n",
    "print(new_account)\n",
    "new_account = last_name[5:]\n",
    "print(new_account)\n",
    "temp_password = last_name[2:6]\n",
    "print(temp_password)"
   ]
  },
  {
   "cell_type": "markdown",
   "id": "e5a870dd-f445-4873-bc03-a57a5c27cfd9",
   "metadata": {},
   "source": [
    "# Concatenating Strings"
   ]
  },
  {
   "cell_type": "code",
   "execution_count": 19,
   "id": "ae8c7c9d-6fd8-453d-8f6e-39131e17bd2a",
   "metadata": {},
   "outputs": [
    {
     "name": "stdout",
     "output_type": "stream",
     "text": [
      "JulBle\n"
     ]
    }
   ],
   "source": [
    "first_name = \"Julie\"\n",
    "last_name = \"Blevins\"\n",
    "\n",
    "def account_generator(first_name, last_name):\n",
    "  return first_name[:3] + last_name[:3]\n",
    "\n",
    "new_account = account_generator(first_name, last_name)\n",
    "\n",
    "print(new_account)"
   ]
  },
  {
   "cell_type": "markdown",
   "id": "a8d4d442-422b-40f1-a6d7-a5bd932e8332",
   "metadata": {},
   "source": [
    "# How long is the string"
   ]
  },
  {
   "cell_type": "code",
   "execution_count": 20,
   "id": "77ec366a-cd20-4d11-8f8a-8483174a8775",
   "metadata": {},
   "outputs": [
    {
     "name": "stdout",
     "output_type": "stream",
     "text": [
      "9\n"
     ]
    }
   ],
   "source": [
    "favorite_fruit = \"blueberry\"\n",
    " \n",
    "length = len(favorite_fruit)\n",
    " \n",
    "print(length)"
   ]
  },
  {
   "cell_type": "code",
   "execution_count": 21,
   "id": "bf03b638-c020-4168-be79-cfd58aa612d8",
   "metadata": {},
   "outputs": [
    {
     "name": "stdout",
     "output_type": "stream",
     "text": [
      "ikouki\n"
     ]
    }
   ],
   "source": [
    "first_name = \"Reiko\"\n",
    "last_name = \"Matsuki\"\n",
    "\n",
    "def password_generator(first_name, last_name):\n",
    "  last_three_letters = first_name[len(first_name)-3:] + last_name[len(last_name)-3:]\n",
    "  return last_three_letters\n",
    "temp_password = password_generator(first_name, last_name)\n",
    "\n",
    "print(temp_password)"
   ]
  },
  {
   "cell_type": "markdown",
   "id": "de4f897c-fa4a-46bd-9ce0-4e799de66121",
   "metadata": {},
   "source": [
    "# Negative Indices"
   ]
  },
  {
   "cell_type": "code",
   "execution_count": 22,
   "id": "ebe2d348-5745-4fc2-938a-f03cb1662f90",
   "metadata": {},
   "outputs": [
    {
     "name": "stdout",
     "output_type": "stream",
     "text": [
      "y\n",
      "r\n",
      "rry\n"
     ]
    }
   ],
   "source": [
    "favorite_fruit = 'blueberry'\n",
    "print(favorite_fruit[-1])\n",
    "# => 'y'\n",
    " \n",
    "print(favorite_fruit[-2])\n",
    "# => 'r'\n",
    " \n",
    "print(favorite_fruit[-3:])\n",
    "# => 'rry'"
   ]
  },
  {
   "cell_type": "code",
   "execution_count": 23,
   "id": "10255e03-1fad-4159-a80d-6813f08d38ad",
   "metadata": {},
   "outputs": [
    {
     "name": "stdout",
     "output_type": "stream",
     "text": [
      "Copeland's Corporate Company helps you capably cope with the constant cacophony of daily \n"
     ]
    }
   ],
   "source": [
    "company_motto = \"Copeland's Corporate Company helps you capably cope with the constant cacophony of daily life\"\n",
    "\n",
    "second_to_last = company_motto[-2]\n",
    "final_word = company_motto[:-4]\n",
    "print(final_word)"
   ]
  },
  {
   "cell_type": "markdown",
   "id": "c73bd5d3-dda5-435c-9763-e806061baf3d",
   "metadata": {},
   "source": [
    "# Mutable and Immutable in python\n",
    "\n",
    "So we’ve been selecting characters from strings, slicing strings, and concatenating strings. Each time we perform one of these operations we are creating an entirely new string.\n",
    "\n",
    "This is because strings are immutable. This means that we cannot change a string once it is created. We can use it to create other strings, but we cannot change the string itself.\n",
    "\n",
    "This property, generally, is known as mutability. Data types that are mutable can be changed, and data types, like strings, that are immutable cannot be changed."
   ]
  },
  {
   "cell_type": "code",
   "execution_count": 24,
   "id": "37085081-3fa1-4206-9aee-d2bdf9f0f8c5",
   "metadata": {},
   "outputs": [
    {
     "name": "stdout",
     "output_type": "stream",
     "text": [
      "Rob\n"
     ]
    }
   ],
   "source": [
    "first_name = \"Bob\"\n",
    "last_name = \"Daily\"\n",
    "\n",
    "# first_name[0] = \"R\"\n",
    "fixed_first_name = \"R\" + first_name[1:]\n",
    "\n",
    "print(fixed_first_name)"
   ]
  },
  {
   "cell_type": "markdown",
   "id": "bd9c434d-42e4-4fd9-a9d6-5b129ec4acc0",
   "metadata": {},
   "source": [
    "# Escape Characters\n",
    "\n",
    " favorite_fruit_conversation = \"He said, \"blueberries are my favorite!\"\""
   ]
  },
  {
   "cell_type": "code",
   "execution_count": 25,
   "id": "ceff7a9e-53ee-4877-80f6-501c2c1997ef",
   "metadata": {},
   "outputs": [
    {
     "ename": "SyntaxError",
     "evalue": "invalid syntax (1762194618.py, line 1)",
     "output_type": "error",
     "traceback": [
      "\u001b[0;36m  Cell \u001b[0;32mIn[25], line 1\u001b[0;36m\u001b[0m\n\u001b[0;31m    favorite_fruit_conversation = \"He said, \"blueberries are my favorite!\"\"\u001b[0m\n\u001b[0m                                             ^\u001b[0m\n\u001b[0;31mSyntaxError\u001b[0m\u001b[0;31m:\u001b[0m invalid syntax\n"
     ]
    }
   ],
   "source": [
    " favorite_fruit_conversation = \"He said, \"blueberries are my favorite!\"\""
   ]
  },
  {
   "cell_type": "code",
   "execution_count": 26,
   "id": "3aaacd3a-5542-40f1-bdc9-4a4fb6f3318b",
   "metadata": {},
   "outputs": [
    {
     "name": "stdout",
     "output_type": "stream",
     "text": [
      "He said, \"blueberries are my favorite!\"\n"
     ]
    }
   ],
   "source": [
    "favorite_fruit_conversation = \"He said, \\\"blueberries are my favorite!\\\"\"\n",
    "\n",
    "print(favorite_fruit_conversation)"
   ]
  },
  {
   "cell_type": "markdown",
   "id": "ba64698c-e4bb-4ef6-ae43-71be146cd599",
   "metadata": {},
   "source": [
    "# Iterating through Strings"
   ]
  },
  {
   "cell_type": "code",
   "execution_count": 27,
   "id": "898aacd2-d090-4da6-8f34-acbaae8a9a1b",
   "metadata": {},
   "outputs": [],
   "source": [
    "def print_each_letter(word):\n",
    "  for letter in word:\n",
    "    print(letter)"
   ]
  },
  {
   "cell_type": "code",
   "execution_count": 28,
   "id": "2dcb493d-b800-4e87-9fa9-78fbeb48bb94",
   "metadata": {},
   "outputs": [
    {
     "name": "stdout",
     "output_type": "stream",
     "text": [
      "b\n",
      "l\n",
      "u\n",
      "e\n"
     ]
    }
   ],
   "source": [
    "favorite_color = \"blue\"\n",
    "print_each_letter(favorite_color)"
   ]
  },
  {
   "cell_type": "markdown",
   "id": "dc9d16b3-3111-4df1-80b5-f29e7fe37f20",
   "metadata": {},
   "source": [
    "# Strings and Conditionals (Part One)"
   ]
  },
  {
   "cell_type": "code",
   "execution_count": 29,
   "id": "d9c9804d-ae95-4fab-a761-aa532f29fb69",
   "metadata": {},
   "outputs": [
    {
     "name": "stdout",
     "output_type": "stream",
     "text": [
      "2\n"
     ]
    }
   ],
   "source": [
    "favorite_fruit = \"blueberry\"\n",
    "counter = 0\n",
    "for character in favorite_fruit:\n",
    "  if character == \"b\":\n",
    "    counter = counter + 1\n",
    "print(counter)"
   ]
  },
  {
   "cell_type": "markdown",
   "id": "02d58db7-49d9-4455-a01a-a85fd9c3cc83",
   "metadata": {},
   "source": [
    "# Strings and Conditionals (Part Two)"
   ]
  },
  {
   "cell_type": "code",
   "execution_count": 30,
   "id": "1908cb32-3b75-43af-99ed-e2596c311919",
   "metadata": {},
   "outputs": [
    {
     "name": "stdout",
     "output_type": "stream",
     "text": [
      "True\n",
      "False\n"
     ]
    }
   ],
   "source": [
    "print(\"e\" in \"blueberry\")\n",
    "# => True\n",
    "print(\"a\" in \"blueberry\")\n",
    "# => False"
   ]
  },
  {
   "cell_type": "code",
   "execution_count": 31,
   "id": "9c2142e7-9965-4d05-8834-1ea8cd27bb45",
   "metadata": {},
   "outputs": [],
   "source": [
    "def contains(big_string, little_string):\n",
    "  return little_string in big_string\n",
    "\n",
    "def common_letters(string_one, string_two):\n",
    "  common = []\n",
    "  for letter in string_one:\n",
    "    if (letter in string_two) and not (letter in common):\n",
    "      common.append(letter)\n",
    "  return common\n"
   ]
  },
  {
   "cell_type": "code",
   "execution_count": null,
   "id": "31497e8c-741a-432c-b07c-36be6c99d6e5",
   "metadata": {},
   "outputs": [],
   "source": [
    "common_letters(\"banana\", \"cream\")"
   ]
  },
  {
   "cell_type": "markdown",
   "id": "44e4c16c-6f57-4c51-b674-34700f3fab70",
   "metadata": {},
   "source": [
    "# String Methods\n",
    "\n",
    "## Formatting methods\n",
    "There are three string methods that can change the casing of a string. These are .lower(), .upper(), and .title()"
   ]
  },
  {
   "cell_type": "code",
   "execution_count": null,
   "id": "56a65640-11e8-442b-94e0-ad0b75b42f24",
   "metadata": {},
   "outputs": [],
   "source": [
    "favorite_song = 'SmOoTH'\n",
    "favorite_song_lowercase = favorite_song.lower()\n",
    "favorite_song_uppercase = favorite_song.upper()\n",
    "favorite_song_title = favorite_song.title()\n",
    "print(favorite_song_lowercase)\n",
    "print(favorite_song_uppercase)\n",
    "print(favorite_song_title)"
   ]
  },
  {
   "cell_type": "code",
   "execution_count": null,
   "id": "99405a09-2a9e-41cb-8e6b-b81836638ca9",
   "metadata": {},
   "outputs": [],
   "source": [
    "poem_title = \"spring storm\"\n",
    "poem_author = \"William Carlos Williams\"\n",
    "\n",
    "poem_title_fixed = poem_title.title()\n",
    "\n",
    "print(poem_title)\n",
    "print(poem_title_fixed)\n",
    "\n",
    "poem_author_fixed = poem_author.upper()\n",
    "print(poem_author)\n",
    "print(poem_author_fixed)"
   ]
  },
  {
   "cell_type": "markdown",
   "id": "17cc616a-4c88-4ab3-88ae-dc1d93ac5d0a",
   "metadata": {},
   "source": [
    "## Splitting Strings\n",
    ".split() is performed on a string, takes one argument, and returns a list of substrings found between the given argument (which in the case of .split() is known as the delimiter)."
   ]
  },
  {
   "cell_type": "code",
   "execution_count": null,
   "id": "6bf14b1e-299a-4a2b-9a8a-3e96af02a908",
   "metadata": {},
   "outputs": [],
   "source": [
    "man_its_a_hot_one = \"Like seven inches from the midday sun\"\n",
    "print(man_its_a_hot_one.split())\n",
    "# => ['Like', 'seven', 'inches', 'from', 'the', 'midday', 'sun']"
   ]
  },
  {
   "cell_type": "markdown",
   "id": "6333de6e-e384-4889-bf89-7e68fb69cbd2",
   "metadata": {},
   "source": [
    "### Splitting Strings II"
   ]
  },
  {
   "cell_type": "code",
   "execution_count": null,
   "id": "d898d6dd-ff6c-498c-b14b-bcb71decf35a",
   "metadata": {},
   "outputs": [],
   "source": [
    "greatest_guitarist = \"santana\"\n",
    "print(greatest_guitarist.split('n'))\n",
    "# => ['sa', 'ta', 'a']\n",
    "# In the resulting list, each 'n' in \"santana\" is removed, and the string is split at these points."
   ]
  },
  {
   "cell_type": "code",
   "execution_count": null,
   "id": "2fb06224-2b62-488d-aec0-aef706c0780f",
   "metadata": {},
   "outputs": [],
   "source": [
    "print(greatest_guitarist.split('a'))\n",
    "# This list is made up of the parts of the string \"santana\" that are separated by 'a'. \n",
    "# The empty string at the end is because there's an 'a' at the end of \"santana\" with no characters after it."
   ]
  },
  {
   "cell_type": "markdown",
   "id": "a1ea8307-469c-4dec-8aca-a60514ba16cd",
   "metadata": {},
   "source": [
    "### Splitting Strings III\n",
    "We can also split strings using escape sequences.\n",
    "\n",
    "\\n Newline\n",
    "\\t Horizontal Tab"
   ]
  },
  {
   "cell_type": "code",
   "execution_count": null,
   "id": "2db3f764-2854-4b8b-ab29-c6ccd0869c8d",
   "metadata": {},
   "outputs": [],
   "source": [
    "smooth_chorus = \\\n",
    "\"\"\"And if you said, \"This life ain't good enough.\"\n",
    "I would give my world to lift you up\n",
    "I could change my life to better suit your mood\n",
    "Because you're so smooth\"\"\"\n",
    " \n",
    "chorus_lines = smooth_chorus.split('\\n')\n",
    " \n",
    "print(chorus_lines)"
   ]
  },
  {
   "cell_type": "markdown",
   "id": "b85c0dd0-36cc-4791-9704-65220b856a56",
   "metadata": {},
   "source": [
    "### Joining Strings\n",
    "\n",
    ".join() is essentially the opposite of .split(), it joins a list of strings together with a given delimiter.\n",
    "\n",
    "'delimiter'.join(list_you_want_to_join)"
   ]
  },
  {
   "cell_type": "code",
   "execution_count": 32,
   "id": "5aa361ae-2bfe-4969-a3a1-f48d4f7c9e16",
   "metadata": {},
   "outputs": [
    {
     "name": "stdout",
     "output_type": "stream",
     "text": [
      "My Spanish Harlem Mona Lisa\n"
     ]
    }
   ],
   "source": [
    "my_munequita = ['My', 'Spanish', 'Harlem', 'Mona', 'Lisa']\n",
    "print(' '.join(my_munequita))"
   ]
  },
  {
   "cell_type": "code",
   "execution_count": 33,
   "id": "f49fe5e9-b953-4bed-99ca-106de5a1a7f0",
   "metadata": {},
   "outputs": [
    {
     "name": "stdout",
     "output_type": "stream",
     "text": [
      "Black reapers with the sound of steel on stones\n"
     ]
    }
   ],
   "source": [
    "reapers_line_one_words = [\"Black\", \"reapers\", \"with\", \"the\", \"sound\", \"of\", \"steel\", \"on\", \"stones\"]\n",
    "\n",
    "reapers_line_one = ' '.join(reapers_line_one_words)\n",
    "\n",
    "print(reapers_line_one)"
   ]
  },
  {
   "cell_type": "markdown",
   "id": "d8b8c183-b536-4723-b0c8-f46720694f6c",
   "metadata": {},
   "source": [
    "### Joining Strings II"
   ]
  },
  {
   "cell_type": "code",
   "execution_count": 35,
   "id": "935b9628-b933-4df9-b882-06382aa3abe3",
   "metadata": {},
   "outputs": [
    {
     "name": "stdout",
     "output_type": "stream",
     "text": [
      "Oye Como Va,Smooth,Black Magic Woman,Samba Pa Ti,Maria Maria\n"
     ]
    }
   ],
   "source": [
    "santana_songs = ['Oye Como Va', 'Smooth', 'Black Magic Woman', 'Samba Pa Ti', 'Maria Maria']\n",
    "\n",
    "santana_songs_csv = ','.join(santana_songs)\n",
    "print(santana_songs_csv)\n",
    "# => 'Oye Como Va,Smooth,Black Magic Woman,Samba Pa Ti,Maria Maria'"
   ]
  },
  {
   "cell_type": "markdown",
   "id": "d169dca9-8a90-46cf-814c-c453f82f53a5",
   "metadata": {},
   "source": [
    "#### More\n",
    "You’ll often find data stored in CSVs because it is an efficient, simple file type used by popular programs like Excel or Google Spreadsheets.\n",
    "\n",
    "You can also join using escape sequences as the delimiter."
   ]
  },
  {
   "cell_type": "code",
   "execution_count": 36,
   "id": "076f6d3f-f883-4292-b1c5-87a5a9fdbe27",
   "metadata": {},
   "outputs": [
    {
     "name": "stdout",
     "output_type": "stream",
     "text": [
      "Well I'm from the barrio\n",
      "You hear my rhythm on your radio\n",
      "You feel the turning of the world so soft and slow\n",
      "Turning you 'round and 'round\n"
     ]
    }
   ],
   "source": [
    "smooth_fifth_verse_lines = ['Well I\\'m from the barrio', 'You hear my rhythm on your radio', 'You feel the turning of the world so soft and slow', 'Turning you \\'round and \\'round']\n",
    " \n",
    "smooth_fifth_verse = '\\n'.join(smooth_fifth_verse_lines)\n",
    " \n",
    "print(smooth_fifth_verse)"
   ]
  },
  {
   "cell_type": "markdown",
   "id": "54a9eebf-339d-4ca4-ae74-9ef9b2c92610",
   "metadata": {},
   "source": [
    "### .strip()\n",
    "\n",
    "working with strings that come from real data, you will often find that the strings aren’t super clean. You’ll find lots of extra whitespace, unnecessary linebreaks, and rogue tabs."
   ]
  },
  {
   "cell_type": "code",
   "execution_count": 37,
   "id": "6902f604-54fe-4214-bdff-dabf5e4eebf5",
   "metadata": {},
   "outputs": [
    {
     "name": "stdout",
     "output_type": "stream",
     "text": [
      "rob thomas\n"
     ]
    }
   ],
   "source": [
    "featuring = \"           rob thomas                 \"\n",
    "print(featuring.strip())\n",
    "# => 'rob thomas'"
   ]
  },
  {
   "cell_type": "code",
   "execution_count": 38,
   "id": "4e7f898d-85ee-4fad-9d2a-14d9acc7612d",
   "metadata": {},
   "outputs": [
    {
     "name": "stdout",
     "output_type": "stream",
     "text": [
      "rob thomas       \n"
     ]
    }
   ],
   "source": [
    "featuring = \"!!!rob thomas       !!!!!\"\n",
    "print(featuring.strip('!'))\n",
    "# => 'rob thomas  "
   ]
  },
  {
   "cell_type": "code",
   "execution_count": 39,
   "id": "2ff46ebd-ce07-4e6f-afd4-8b8361cf40f3",
   "metadata": {},
   "outputs": [
    {
     "name": "stdout",
     "output_type": "stream",
     "text": [
      "Alw.      ays\n",
      "in the middle of our bloodiest battles\n",
      "you lay down your arms\n",
      "like flowering mines\n",
      "\n",
      "to conquer me home.\n"
     ]
    }
   ],
   "source": [
    "love_maybe_lines = ['Alw.      ays    ', '     in the middle of our bloodiest battles  ', 'you lay down your arms', '           like flowering mines    ','\\n' ,'   to conquer me home.    ']\n",
    "love_maybe_lines_stripped  = []\n",
    "for line in love_maybe_lines:\n",
    "  love_maybe_lines_stripped.append(line.strip())\n",
    "\n",
    "love_maybe_full = \"\\n\" .join(love_maybe_lines_stripped)\n",
    "\n",
    "print(love_maybe_full)"
   ]
  },
  {
   "cell_type": "markdown",
   "id": "9fa379ab-da19-464b-8859-a4e8aae8db12",
   "metadata": {},
   "source": [
    "### Replace\n",
    "\n",
    ".replace(). Replace takes two arguments and replaces all instances of the first argument in a string with the second argument."
   ]
  },
  {
   "cell_type": "code",
   "execution_count": 40,
   "id": "4d4204ee-492d-44f0-85dc-32d3d3f68b72",
   "metadata": {},
   "outputs": [
    {
     "name": "stdout",
     "output_type": "stream",
     "text": [
      "You_got_the_kind_of_loving_that_can_be_so_smooth\n"
     ]
    }
   ],
   "source": [
    "with_spaces = \"You got the kind of loving that can be so smooth\"\n",
    "with_underscores = with_spaces.replace(' ', '_')\n",
    "print(with_underscores)\n",
    "# 'You_got_the_kind_of_loving_that_can_be_so_smooth'"
   ]
  },
  {
   "cell_type": "code",
   "execution_count": 42,
   "id": "0b9ef788-fc1e-4c1f-aa2c-bb1fa891e0d2",
   "metadata": {},
   "outputs": [
    {
     "name": "stdout",
     "output_type": "stream",
     "text": [
      "\n",
      "Nathan Pinchback Toomer, who adopted the name Jean Toomer early in his literary career, was born in Washington, D.C. in 1894. Jean is the son of Nathan Toomer was a mixed-race freedman, born into slavery in 1839 in Chatham County, North Carolina. Jean Toomer is most well known for his first book Cane, which vividly portrays the life of African-Americans in southern farmlands.\n",
      "\n"
     ]
    }
   ],
   "source": [
    "toomer_bio = \\\n",
    "\"\"\"\n",
    "Nathan Pinchback Tomer, who adopted the name Jean Tomer early in his literary career, was born in Washington, D.C. in 1894. Jean is the son of Nathan Tomer was a mixed-race freedman, born into slavery in 1839 in Chatham County, North Carolina. Jean Tomer is most well known for his first book Cane, which vividly portrays the life of African-Americans in southern farmlands.\n",
    "\"\"\"\n",
    "\n",
    "toomer_bio_fixed = toomer_bio.replace(\"Tomer\", \"Toomer\")\n",
    "\n",
    "print(toomer_bio_fixed)"
   ]
  },
  {
   "cell_type": "markdown",
   "id": "91bc18a8-21ca-4f3c-9293-8356d301afb8",
   "metadata": {},
   "source": [
    "### .find()\n",
    "\n",
    ".find() takes a string as an argument and searching the string it was run on for that string. It then returns the first index value where that string is located."
   ]
  },
  {
   "cell_type": "code",
   "execution_count": 43,
   "id": "70cdcad1-f0f0-41ce-9b48-cab0bb2f210a",
   "metadata": {},
   "outputs": [
    {
     "name": "stdout",
     "output_type": "stream",
     "text": [
      "4\n"
     ]
    }
   ],
   "source": [
    "print('smooth'.find('t'))"
   ]
  },
  {
   "cell_type": "code",
   "execution_count": 44,
   "id": "afae0695-efd4-49f7-9486-eaced4bf57b1",
   "metadata": {},
   "outputs": [
    {
     "name": "stdout",
     "output_type": "stream",
     "text": [
      "2\n"
     ]
    }
   ],
   "source": [
    "print(\"smooth\".find('oo'))"
   ]
  },
  {
   "cell_type": "code",
   "execution_count": 46,
   "id": "dc251359-d5a9-4799-8f77-6dcccf722b23",
   "metadata": {},
   "outputs": [
    {
     "name": "stdout",
     "output_type": "stream",
     "text": [
      "20\n"
     ]
    }
   ],
   "source": [
    "god_wills_it_line_one = \"The very earth will disown you\"\n",
    "\n",
    "disown_placement = god_wills_it_line_one.find(\"disown\")\n",
    "\n",
    "print(disown_placement)"
   ]
  },
  {
   "cell_type": "markdown",
   "id": "8702cf96-af3e-4da2-a840-229961b1a37c",
   "metadata": {},
   "source": [
    "### .format()\n",
    ".format() takes variables as an argument and includes them in the string that it is run on. You include {} marks as placeholders for where those variables will be imported."
   ]
  },
  {
   "cell_type": "code",
   "execution_count": 48,
   "id": "8d6a242a-956b-4623-89aa-875f0e164d24",
   "metadata": {},
   "outputs": [
    {
     "name": "stdout",
     "output_type": "stream",
     "text": [
      "My favorite song is Smooth by Santana.\n"
     ]
    }
   ],
   "source": [
    "def favorite_song_statement(song, artist):\n",
    "  return \"My favorite song is {} by {}.\".format(song, artist)\n",
    "\n",
    "print(favorite_song_statement(\"Smooth\", \"Santana\"))"
   ]
  },
  {
   "cell_type": "code",
   "execution_count": 51,
   "id": "2dd69f20-f480-4c1c-8de0-b46cd1a0d2eb",
   "metadata": {},
   "outputs": [
    {
     "data": {
      "text/plain": [
       "'The poem \"I Hear America Singing\" is written by Walt Whitman.'"
      ]
     },
     "execution_count": 51,
     "metadata": {},
     "output_type": "execute_result"
    }
   ],
   "source": [
    "def poem_title_card(title, poet):\n",
    "  i = \"The poem \\\"{}\\\" is written by {}.\".format(title, poet)\n",
    "  return i\n",
    "\n",
    "poem_title_card(\"I Hear America Singing\", \"Walt Whitman\")"
   ]
  },
  {
   "cell_type": "markdown",
   "id": "c4cc9d13-99aa-429f-b0ca-ed33d6b4191c",
   "metadata": {},
   "source": [
    "### .format() II\n",
    "\n",
    ".format() can be made even more legible for other people reading your code by including keywords."
   ]
  },
  {
   "cell_type": "code",
   "execution_count": 54,
   "id": "e29ecb06-6ae4-4646-a8e7-2b12fa2c0a20",
   "metadata": {},
   "outputs": [],
   "source": [
    "def favorite_song_statement(song, artist):\n",
    "  return \"My favorite song is {song} by {artist}.\".format(song=song, artist=artist)"
   ]
  },
  {
   "cell_type": "code",
   "execution_count": 1,
   "id": "7a1e1df1-3f1d-4d2b-99f9-ae38e0bb66f8",
   "metadata": {},
   "outputs": [
    {
     "name": "stdout",
     "output_type": "stream",
     "text": [
      "The poem My Beard by Shel Silverstein was originally published in Where the Sidewalk Ends in 1974.\n"
     ]
    }
   ],
   "source": [
    "def poem_description(publishing_date, author, title, original_work):\n",
    "  poem_desc = \"The poem {title} by {author} was originally published in {original_work} in {publishing_date}.\".format(publishing_date = publishing_date, author = author, title= title, original_work= original_work)\n",
    "  return poem_desc\n",
    "\n",
    "author = \"Shel Silverstein\"\n",
    "title = \"My Beard\"\n",
    "original_work = \"Where the Sidewalk Ends\"\n",
    "publishing_date = \"1974\"\n",
    "\n",
    "my_beard_description = poem_description(publishing_date, author, title, original_work)\n",
    "\n",
    "print(my_beard_description)"
   ]
  }
 ],
 "metadata": {
  "kernelspec": {
   "display_name": "Python 3 (ipykernel)",
   "language": "python",
   "name": "python3"
  },
  "language_info": {
   "codemirror_mode": {
    "name": "ipython",
    "version": 3
   },
   "file_extension": ".py",
   "mimetype": "text/x-python",
   "name": "python",
   "nbconvert_exporter": "python",
   "pygments_lexer": "ipython3",
   "version": "3.10.9"
  }
 },
 "nbformat": 4,
 "nbformat_minor": 5
}
