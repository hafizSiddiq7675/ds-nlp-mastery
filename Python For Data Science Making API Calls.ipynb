{
 "cells": [
  {
   "cell_type": "markdown",
   "id": "91af36ca-c7c7-4a7f-bf73-02da81e85e3f",
   "metadata": {},
   "source": [
    "## using request library to make the API calls"
   ]
  },
  {
   "cell_type": "code",
   "execution_count": 1,
   "id": "db5ec255-92e8-4f04-9b09-fe437ae34bd7",
   "metadata": {},
   "outputs": [],
   "source": [
    "import requests\n",
    "\n",
    "r = requests.get('https://api.census.gov/data/2020/acs/acs5?get=NAME,B08303_001E&for=state:*')"
   ]
  },
  {
   "cell_type": "code",
   "execution_count": 2,
   "id": "5915d0dc-d79e-4253-8d84-b831ab8c091d",
   "metadata": {},
   "outputs": [
    {
     "name": "stdout",
     "output_type": "stream",
     "text": [
      "[[\"NAME\",\"B08303_001E\",\"state\"],\n",
      "[\"Pennsylvania\",\"5652158\",\"42\"],\n",
      "[\"California\",\"16710195\",\"06\"],\n",
      "[\"West Virginia\",\"697042\",\"54\"],\n",
      "[\"Utah\",\"1378826\",\"49\"],\n",
      "[\"New York\",\"8584828\",\"36\"],\n",
      "[\"District of Columbia\",\"332618\",\"11\"],\n",
      "[\"Alaska\",\"330203\",\"02\"],\n",
      "[\"Florida\",\"8817718\",\"12\"],\n",
      "[\"South Carolina\",\"2174285\",\"45\"],\n",
      "[\"North Dakota\",\"380227\",\"38\"],\n",
      "[\"Maine\",\"608861\",\"23\"],\n",
      "[\"Georgia\",\"4475685\",\"13\"],\n",
      "[\"Alabama\",\"2002359\",\"01\"],\n",
      "[\"New Hampshire\",\"656277\",\"33\"],\n",
      "[\"Oregon\",\"1790252\",\"41\"],\n",
      "[\"Wyoming\",\"267249\",\"56\"],\n",
      "[\"Arizona\",\"2897654\",\"04\"],\n",
      "[\"Louisiana\",\"1917930\",\"22\"],\n",
      "[\"Indiana\",\"2985939\",\"18\"],\n",
      "[\"Idaho\",\"744565\",\"16\"],\n",
      "[\"Connecticut\",\"1641807\",\"09\"],\n",
      "[\"Hawaii\",\"657643\",\"15\"],\n",
      "[\"Illinois\",\"5686627\",\"17\"],\n",
      "[\"Massachusetts\",\"3251466\",\"25\"],\n",
      "[\"Texas\",\"12371575\",\"48\"],\n",
      "[\"Montana\",\"471094\",\"30\"],\n",
      "[\"Nebraska\",\"928064\",\"31\"],\n",
      "[\"Ohio\",\"5163570\",\"39\"],\n",
      "[\"Colorado\",\"2604698\",\"08\"],\n",
      "[\"New Jersey\",\"4016070\",\"34\"],\n",
      "[\"Maryland\",\"2799889\",\"24\"],\n",
      "[\"Virginia\",\"3883690\",\"51\"],\n",
      "[\"Vermont\",\"292982\",\"50\"],\n",
      "[\"North Carolina\",\"4458769\",\"37\"],\n",
      "[\"Arkansas\",\"1238100\",\"05\"],\n",
      "[\"Washington\",\"3302637\",\"53\"],\n",
      "[\"Kansas\",\"1345103\",\"20\"],\n",
      "[\"Oklahoma\",\"1674019\",\"40\"],\n",
      "[\"Wisconsin\",\"2747826\",\"55\"],\n",
      "[\"Mississippi\",\"1193668\",\"28\"],\n",
      "[\"Missouri\",\"2707728\",\"29\"],\n",
      "[\"Michigan\",\"4288646\",\"26\"],\n",
      "[\"Rhode Island\",\"495214\",\"44\"],\n",
      "[\"Minnesota\",\"2654657\",\"27\"],\n",
      "[\"Iowa\",\"1482217\",\"19\"],\n",
      "[\"New Mexico\",\"829659\",\"35\"],\n",
      "[\"Nevada\",\"1321596\",\"32\"],\n",
      "[\"Delaware\",\"419600\",\"10\"],\n",
      "[\"Puerto Rico\",\"969379\",\"72\"],\n",
      "[\"Kentucky\",\"1858458\",\"21\"],\n",
      "[\"South Dakota\",\"411590\",\"46\"],\n",
      "[\"Tennessee\",\"2909026\",\"47\"]]\n"
     ]
    }
   ],
   "source": [
    "print(r.text)"
   ]
  },
  {
   "cell_type": "code",
   "execution_count": 3,
   "id": "fab68ab6-c5c7-48c7-befb-3986d71145c2",
   "metadata": {},
   "outputs": [
    {
     "name": "stdout",
     "output_type": "stream",
     "text": [
      "[['NAME', 'B08303_001E', 'state'], ['Pennsylvania', '5652158', '42'], ['California', '16710195', '06'], ['West Virginia', '697042', '54'], ['Utah', '1378826', '49'], ['New York', '8584828', '36'], ['District of Columbia', '332618', '11'], ['Alaska', '330203', '02'], ['Florida', '8817718', '12'], ['South Carolina', '2174285', '45'], ['North Dakota', '380227', '38'], ['Maine', '608861', '23'], ['Georgia', '4475685', '13'], ['Alabama', '2002359', '01'], ['New Hampshire', '656277', '33'], ['Oregon', '1790252', '41'], ['Wyoming', '267249', '56'], ['Arizona', '2897654', '04'], ['Louisiana', '1917930', '22'], ['Indiana', '2985939', '18'], ['Idaho', '744565', '16'], ['Connecticut', '1641807', '09'], ['Hawaii', '657643', '15'], ['Illinois', '5686627', '17'], ['Massachusetts', '3251466', '25'], ['Texas', '12371575', '48'], ['Montana', '471094', '30'], ['Nebraska', '928064', '31'], ['Ohio', '5163570', '39'], ['Colorado', '2604698', '08'], ['New Jersey', '4016070', '34'], ['Maryland', '2799889', '24'], ['Virginia', '3883690', '51'], ['Vermont', '292982', '50'], ['North Carolina', '4458769', '37'], ['Arkansas', '1238100', '05'], ['Washington', '3302637', '53'], ['Kansas', '1345103', '20'], ['Oklahoma', '1674019', '40'], ['Wisconsin', '2747826', '55'], ['Mississippi', '1193668', '28'], ['Missouri', '2707728', '29'], ['Michigan', '4288646', '26'], ['Rhode Island', '495214', '44'], ['Minnesota', '2654657', '27'], ['Iowa', '1482217', '19'], ['New Mexico', '829659', '35'], ['Nevada', '1321596', '32'], ['Delaware', '419600', '10'], ['Puerto Rico', '969379', '72'], ['Kentucky', '1858458', '21'], ['South Dakota', '411590', '46'], ['Tennessee', '2909026', '47']]\n"
     ]
    }
   ],
   "source": [
    "print(r.json())"
   ]
  },
  {
   "cell_type": "code",
   "execution_count": 5,
   "id": "183f6ef8-c047-40c1-b2ae-a7e35aee6f92",
   "metadata": {},
   "outputs": [],
   "source": [
    "r = requests.get('https://api.census.gov/data/2020/acs/acs5?get=NAME,B08303_001E,B08303_013E&for=county:*&in=state:36')"
   ]
  },
  {
   "cell_type": "code",
   "execution_count": 8,
   "id": "32049bb2-1e6a-4194-a847-cb9236ecc12c",
   "metadata": {},
   "outputs": [
    {
     "name": "stdout",
     "output_type": "stream",
     "text": [
      "[[\"NAME\",\"B08303_001E\",\"B08303_013E\",\"state\",\"county\"],\n",
      "[\"Allegany County, New York\",\"18308\",\"497\",\"36\",\"003\"],\n",
      "[\"Cattaraugus County, New York\",\"31039\",\"629\",\"36\",\"009\"],\n",
      "[\"Chemung County, New York\",\"35006\",\"736\",\"36\",\"015\"],\n",
      "[\"Columbia County, New York\",\"25990\",\"813\",\"36\",\"021\"],\n",
      "[\"Dutchess County, New York\",\"132346\",\"10044\",\"36\",\"027\"],\n",
      "[\"Essex County, New York\",\"15218\",\"550\",\"36\",\"031\"],\n",
      "[\"Genesee County, New York\",\"27695\",\"259\",\"36\",\"037\"],\n",
      "[\"Herkimer County, New York\",\"26549\",\"705\",\"36\",\"043\"],\n",
      "[\"Lewis County, New York\",\"11149\",\"417\",\"36\",\"049\"],\n",
      "[\"Monroe County, New York\",\"332699\",\"3546\",\"36\",\"055\"],\n",
      "[\"New York County, New York\",\"770396\",\"21735\",\"36\",\"061\"],\n",
      "[\"Onondaga County, New York\",\"202751\",\"2726\",\"36\",\"067\"],\n",
      "[\"Orleans County, New York\",\"16404\",\"287\",\"36\",\"073\"],\n",
      "[\"Putnam County, New York\",\"45821\",\"4200\",\"36\",\"079\"],\n",
      "[\"Richmond County, New York\",\"203754\",\"29348\",\"36\",\"085\"],\n",
      "[\"Albany County, New York\",\"145874\",\"1549\",\"36\",\"001\"],\n",
      "[\"Bronx County, New York\",\"546560\",\"54030\",\"36\",\"005\"],\n",
      "[\"Broome County, New York\",\"77464\",\"1352\",\"36\",\"007\"],\n",
      "[\"Cayuga County, New York\",\"33412\",\"604\",\"36\",\"011\"],\n",
      "[\"Chautauqua County, New York\",\"52147\",\"647\",\"36\",\"013\"],\n",
      "[\"Chenango County, New York\",\"20209\",\"535\",\"36\",\"017\"],\n",
      "[\"Clinton County, New York\",\"34016\",\"365\",\"36\",\"019\"],\n",
      "[\"Cortland County, New York\",\"21791\",\"296\",\"36\",\"023\"],\n",
      "[\"Delaware County, New York\",\"17946\",\"861\",\"36\",\"025\"],\n",
      "[\"Erie County, New York\",\"414400\",\"5160\",\"36\",\"029\"],\n",
      "[\"Franklin County, New York\",\"17841\",\"256\",\"36\",\"033\"],\n",
      "[\"Fulton County, New York\",\"23456\",\"400\",\"36\",\"035\"],\n",
      "[\"Greene County, New York\",\"18928\",\"648\",\"36\",\"039\"],\n",
      "[\"Hamilton County, New York\",\"1841\",\"50\",\"36\",\"041\"],\n",
      "[\"Jefferson County, New York\",\"48260\",\"688\",\"36\",\"045\"],\n",
      "[\"Kings County, New York\",\"1087920\",\"76680\",\"36\",\"047\"],\n",
      "[\"Livingston County, New York\",\"27374\",\"395\",\"36\",\"051\"],\n",
      "[\"Madison County, New York\",\"30900\",\"451\",\"36\",\"053\"],\n",
      "[\"Montgomery County, New York\",\"20627\",\"278\",\"36\",\"057\"],\n",
      "[\"Nassau County, New York\",\"622432\",\"49953\",\"36\",\"059\"],\n",
      "[\"Niagara County, New York\",\"93331\",\"937\",\"36\",\"063\"],\n",
      "[\"Oneida County, New York\",\"94801\",\"1326\",\"36\",\"065\"],\n",
      "[\"Ontario County, New York\",\"50334\",\"611\",\"36\",\"069\"],\n",
      "[\"Orange County, New York\",\"163955\",\"15513\",\"36\",\"071\"],\n",
      "[\"Oswego County, New York\",\"51083\",\"1095\",\"36\",\"075\"],\n",
      "[\"Otsego County, New York\",\"25745\",\"692\",\"36\",\"077\"],\n",
      "[\"Queens County, New York\",\"1025165\",\"95163\",\"36\",\"081\"],\n",
      "[\"Rensselaer County, New York\",\"74181\",\"1545\",\"36\",\"083\"],\n",
      "[\"Rockland County, New York\",\"132952\",\"9017\",\"36\",\"087\"],\n",
      "[\"St. Lawrence County, New York\",\"40971\",\"787\",\"36\",\"089\"],\n",
      "[\"Saratoga County, New York\",\"109798\",\"1707\",\"36\",\"091\"],\n",
      "[\"Schenectady County, New York\",\"67443\",\"843\",\"36\",\"093\"],\n",
      "[\"Schoharie County, New York\",\"13218\",\"414\",\"36\",\"095\"],\n",
      "[\"Schuyler County, New York\",\"7582\",\"206\",\"36\",\"097\"],\n",
      "[\"Seneca County, New York\",\"14290\",\"193\",\"36\",\"099\"],\n",
      "[\"Steuben County, New York\",\"40583\",\"713\",\"36\",\"101\"],\n",
      "[\"Suffolk County, New York\",\"698146\",\"51611\",\"36\",\"103\"],\n",
      "[\"Sullivan County, New York\",\"29960\",\"2181\",\"36\",\"105\"],\n",
      "[\"Tioga County, New York\",\"21206\",\"347\",\"36\",\"107\"],\n",
      "[\"Tompkins County, New York\",\"44051\",\"547\",\"36\",\"109\"],\n",
      "[\"Ulster County, New York\",\"75520\",\"3761\",\"36\",\"111\"],\n",
      "[\"Warren County, New York\",\"30092\",\"588\",\"36\",\"113\"],\n",
      "[\"Washington County, New York\",\"25874\",\"551\",\"36\",\"115\"],\n",
      "[\"Wayne County, New York\",\"41138\",\"449\",\"36\",\"117\"],\n",
      "[\"Westchester County, New York\",\"427794\",\"29750\",\"36\",\"119\"],\n",
      "[\"Wyoming County, New York\",\"17574\",\"273\",\"36\",\"121\"],\n",
      "[\"Yates County, New York\",\"9518\",\"90\",\"36\",\"123\"]]\n"
     ]
    }
   ],
   "source": [
    "r_text = r.text\n",
    "\n",
    "r_json = r.json()\n",
    "\n",
    "print(r_text)"
   ]
  },
  {
   "cell_type": "code",
   "execution_count": 9,
   "id": "8914efe0-9e41-4d62-a7a0-74f431dd111a",
   "metadata": {},
   "outputs": [
    {
     "name": "stdout",
     "output_type": "stream",
     "text": [
      "[['NAME', 'B08303_001E', 'B08303_013E', 'state', 'county'], ['Allegany County, New York', '18308', '497', '36', '003'], ['Cattaraugus County, New York', '31039', '629', '36', '009'], ['Chemung County, New York', '35006', '736', '36', '015'], ['Columbia County, New York', '25990', '813', '36', '021'], ['Dutchess County, New York', '132346', '10044', '36', '027'], ['Essex County, New York', '15218', '550', '36', '031'], ['Genesee County, New York', '27695', '259', '36', '037'], ['Herkimer County, New York', '26549', '705', '36', '043'], ['Lewis County, New York', '11149', '417', '36', '049'], ['Monroe County, New York', '332699', '3546', '36', '055'], ['New York County, New York', '770396', '21735', '36', '061'], ['Onondaga County, New York', '202751', '2726', '36', '067'], ['Orleans County, New York', '16404', '287', '36', '073'], ['Putnam County, New York', '45821', '4200', '36', '079'], ['Richmond County, New York', '203754', '29348', '36', '085'], ['Albany County, New York', '145874', '1549', '36', '001'], ['Bronx County, New York', '546560', '54030', '36', '005'], ['Broome County, New York', '77464', '1352', '36', '007'], ['Cayuga County, New York', '33412', '604', '36', '011'], ['Chautauqua County, New York', '52147', '647', '36', '013'], ['Chenango County, New York', '20209', '535', '36', '017'], ['Clinton County, New York', '34016', '365', '36', '019'], ['Cortland County, New York', '21791', '296', '36', '023'], ['Delaware County, New York', '17946', '861', '36', '025'], ['Erie County, New York', '414400', '5160', '36', '029'], ['Franklin County, New York', '17841', '256', '36', '033'], ['Fulton County, New York', '23456', '400', '36', '035'], ['Greene County, New York', '18928', '648', '36', '039'], ['Hamilton County, New York', '1841', '50', '36', '041'], ['Jefferson County, New York', '48260', '688', '36', '045'], ['Kings County, New York', '1087920', '76680', '36', '047'], ['Livingston County, New York', '27374', '395', '36', '051'], ['Madison County, New York', '30900', '451', '36', '053'], ['Montgomery County, New York', '20627', '278', '36', '057'], ['Nassau County, New York', '622432', '49953', '36', '059'], ['Niagara County, New York', '93331', '937', '36', '063'], ['Oneida County, New York', '94801', '1326', '36', '065'], ['Ontario County, New York', '50334', '611', '36', '069'], ['Orange County, New York', '163955', '15513', '36', '071'], ['Oswego County, New York', '51083', '1095', '36', '075'], ['Otsego County, New York', '25745', '692', '36', '077'], ['Queens County, New York', '1025165', '95163', '36', '081'], ['Rensselaer County, New York', '74181', '1545', '36', '083'], ['Rockland County, New York', '132952', '9017', '36', '087'], ['St. Lawrence County, New York', '40971', '787', '36', '089'], ['Saratoga County, New York', '109798', '1707', '36', '091'], ['Schenectady County, New York', '67443', '843', '36', '093'], ['Schoharie County, New York', '13218', '414', '36', '095'], ['Schuyler County, New York', '7582', '206', '36', '097'], ['Seneca County, New York', '14290', '193', '36', '099'], ['Steuben County, New York', '40583', '713', '36', '101'], ['Suffolk County, New York', '698146', '51611', '36', '103'], ['Sullivan County, New York', '29960', '2181', '36', '105'], ['Tioga County, New York', '21206', '347', '36', '107'], ['Tompkins County, New York', '44051', '547', '36', '109'], ['Ulster County, New York', '75520', '3761', '36', '111'], ['Warren County, New York', '30092', '588', '36', '113'], ['Washington County, New York', '25874', '551', '36', '115'], ['Wayne County, New York', '41138', '449', '36', '117'], ['Westchester County, New York', '427794', '29750', '36', '119'], ['Wyoming County, New York', '17574', '273', '36', '121'], ['Yates County, New York', '9518', '90', '36', '123']]\n"
     ]
    }
   ],
   "source": [
    "print(r_json)"
   ]
  },
  {
   "cell_type": "markdown",
   "id": "41b1297e-91ad-4df2-9e29-8de43b576e2d",
   "metadata": {},
   "source": [
    "## Converting json to CSV"
   ]
  },
  {
   "cell_type": "code",
   "execution_count": 10,
   "id": "e00e7c3d-207b-4f8c-9f53-aa6778bc856b",
   "metadata": {},
   "outputs": [],
   "source": [
    "import requests\n",
    "import csv\n",
    "\n",
    "r = requests.get('https://api.census.gov/data/2020/acs/acs5?get=NAME,B08303_001E,B08303_013E&for=county:*&in=state:36')\n",
    "\n",
    "r_json = r.json()"
   ]
  },
  {
   "cell_type": "code",
   "execution_count": 11,
   "id": "50d01a21-fcc4-4528-a520-1c690ded5284",
   "metadata": {},
   "outputs": [],
   "source": [
    "with open('commute_data.csv', mode='w', newline='') as file:\n",
    "  writer = csv.writer(file)\n",
    "  writer.writerows(r_json)"
   ]
  },
  {
   "cell_type": "markdown",
   "id": "1f34d414-98a2-4a0e-b9e4-c6cd8db9fda3",
   "metadata": {},
   "source": [
    "## Exploring data using pandas"
   ]
  },
  {
   "cell_type": "code",
   "execution_count": 13,
   "id": "9944ff63-40ba-4a03-938a-c5c5b547c2de",
   "metadata": {},
   "outputs": [
    {
     "name": "stdout",
     "output_type": "stream",
     "text": [
      "                           NAME  B08303_001E  B08303_013E  state  county\n",
      "0     Allegany County, New York        18308          497     36       3\n",
      "1  Cattaraugus County, New York        31039          629     36       9\n",
      "2      Chemung County, New York        35006          736     36      15\n",
      "3     Columbia County, New York        25990          813     36      21\n",
      "4     Dutchess County, New York       132346        10044     36      27\n",
      "                    county_name  total_commuters  super_commuters  state_code  \\\n",
      "0     Allegany County, New York            18308              497          36   \n",
      "1  Cattaraugus County, New York            31039              629          36   \n",
      "2      Chemung County, New York            35006              736          36   \n",
      "3     Columbia County, New York            25990              813          36   \n",
      "4     Dutchess County, New York           132346            10044          36   \n",
      "\n",
      "   county_code  \n",
      "0            3  \n",
      "1            9  \n",
      "2           15  \n",
      "3           21  \n",
      "4           27  \n"
     ]
    }
   ],
   "source": [
    "import pandas as pd\n",
    "\n",
    "\n",
    "commute_df = pd.read_csv('commute_data.csv')\n",
    "\n",
    "print(commute_df.head())\n",
    "\n",
    "commute_df.columns = ['county_name', 'total_commuters', 'super_commuters', 'state_code', 'county_code']\n",
    "\n",
    "print(commute_df.head())"
   ]
  },
  {
   "cell_type": "markdown",
   "id": "60851c0c-fa97-4583-ba8f-e01bd5c86485",
   "metadata": {},
   "source": [
    "## Simulating binomial distribution"
   ]
  },
  {
   "cell_type": "code",
   "execution_count": 16,
   "id": "f1bd79e8-b220-450e-8964-c04d90f33047",
   "metadata": {},
   "outputs": [
    {
     "name": "stdout",
     "output_type": "stream",
     "text": [
      "[1 1 1 1 0 1 1 0 1 0 1 0 1 1 1 1 1 1 1 1 1 1 1 0 1 1 1 1 0 1 1 1 1 1 1 1 0\n",
      " 1 1 1 1 0 1 1 1 1 0 1 0 1 1 1 1 1 1 1 1 0 0 1 1 1 0 0 0 1 1 1 1 1 0 1 1 1\n",
      " 0 1 1 1 0 1 1 1 1 0 1 1 0 1 0 1 1 1 1 1 1 0 1 1 1 1 1 0 0 1 1 0 1 0 1 1 1\n",
      " 1 0 1 1 1 1 1 1 1 0 1 1 1 1 1 1 1 1 1 1 1 0 1 1 0 1 1 0 1 1 1 1 1 1 1 0 1\n",
      " 1 1 1 1 1 1 1 1 1 1 0 0 1 1 1 1 1 1 1 0 1 1 0 1 1 1 1 1 0 1 1 1 1 1 1 1 1\n",
      " 1 1 1 1 1 1 1 1 1 1 1 1 1 1 0 1 1 1 1 1 0 0 0 1 1 1 0 0 1 1 1 1 1 1 0 1 1\n",
      " 1 1 1 1 1 1 0 1 1 1 1 1 1 1 1 1 1 1 0 1 1 0 1 0 1 1 1 1 0 1 1 0 1 1 1 1 1\n",
      " 1 1 1 1 1 1 1 1 0 1 1 1 1 0 1 0 1 1 1 1 1 0 1 1 1 1 1 1 1 0 1 0 1 0 1 0 0\n",
      " 0 0 1 1 1 1 1 1 1 1 0 1 0 1 1 1 1 1 1 1 1 1 1 0 1 1 1 0 1 1 1 1 1 0 1 1 1\n",
      " 1 1 0 1 1 1 1 0 1 1 1 0 1 1 0 1 1 1 0 1 1 0 0 0 1 0 1 1 1 1 0 1 0 0 1 1 1\n",
      " 1 0 0 1 0 1 1 1 0 0 1 1 1 1 0 1 0 0 1 1 1 1 0 1 1 0 1 1 1 1 1 1 1 0 0 0 1\n",
      " 1 1 1 1 1 1 1 0 1 1 1 1 0 1 1 1 0 1 1 1 1 1 1 1 1 1 1 0 1 1 1 1 0 1 1 1 1\n",
      " 1 1 1 1 1 1 1 1 1 1 1 1 1 1 1 1 1 0 1 1 1 1 1 1 1 1 1 1 1 0 1 1 1 1 1 1 1\n",
      " 1 1 1 0 0 1 1 1 0 1 1 1 1 1 1 1 1 0 0]\n",
      "[82 77 84 79 80 85 76 81 82 84 78 81 77 84 83 85 71 80 85 78 81 74 74 88\n",
      " 82 83 83 81 78 76 81 76 76 80 84 85 91 84 77 80 75 86 74 81 78 79 85 86\n",
      " 83 82 78 84 78 72 83 85 87 87 79 82 78 77 75 79 83 83 79 76 89 82 81 82\n",
      " 74 85 79 89 88 81 88 80 76 71 85 88 81 88 75 75 82 81 78 67 83 77 80 83\n",
      " 81 80 77 75 83 83 77 76 75 78 88 82 72 79 74 80 81 85 87 86 78 82 68 82\n",
      " 76 74 84 78 82 83 72 75 79 81 83 84 81 77 78 81 79 82 73 87 76 79 77 87\n",
      " 73 78 82 82 82 80 82 81 78 87 83 72 81 83 80 80 78 77 83 83 86 88 77 83\n",
      " 85 81 86 86 83 85 79 83 76 78 77 82 79 80 75 85 81 76 82 77 81 87 82 83\n",
      " 76 81 77 80 87 87 82 82 86 85 74 85 87 82 85 76 82 83 81 81 73 74 72 84\n",
      " 86 79 79 81 76 86 87 83 75 80 77 82 78 80 76 76 87 80 79 81 81 85 83 79\n",
      " 83 80 84 73 80 90 80 86 73 76 83 78 81 76 76 80 81 74 83 77 79 71 83 74\n",
      " 87 84 84 81 80 77 83 82 84 81 84 80 75 80 78 85 78 76 79 83 81 74 79 81\n",
      " 76 77 74 78 78 81 82 77 81 77 85 80 80 75 77 82 75 80 80 77 80 84 82 82\n",
      " 76 80 77 79 77 79 73 78 82 78 77 78 79 82 76 81 77 76 87 78 78 78 78 76\n",
      " 75 88 81 81 81 81 74 77 71 80 85 74 78 81 76 77 79 85 80 76 77 81 86 78\n",
      " 75 77 84 80 81 77 82 85 78 81 74 75 81 79 74 80 81 86 80 79 84 83 90 85\n",
      " 87 82 83 83 82 82 82 77 85 79 78 86 83 83 75 84 78 83 73 79 86 87 80 80\n",
      " 75 78 84 86 79 70 77 84 82 74 79 77 75 82 87 84 74 80 82 81 73 77 76 82\n",
      " 79 86 83 76 77 71 80 83 86 85 78 75 80 76 77 83 82 79 82 76 75 78 79 76\n",
      " 74 89 82 86 79 82 80 78 79 85 79 80 70 81 83 82 83 72 77 86 83 81 72 83\n",
      " 78 85 84 76 71 81 82 77 84 89 82 77 73 81 79 73 73 81 80 82]\n"
     ]
    }
   ],
   "source": [
    "import numpy\n",
    "\n",
    "print(numpy.random.binomial(n=1, p=0.8, size=500))\n",
    "\n",
    "print(numpy.random.binomial(n=100, p=0.8, size=500))"
   ]
  }
 ],
 "metadata": {
  "kernelspec": {
   "display_name": "Python 3 (ipykernel)",
   "language": "python",
   "name": "python3"
  },
  "language_info": {
   "codemirror_mode": {
    "name": "ipython",
    "version": 3
   },
   "file_extension": ".py",
   "mimetype": "text/x-python",
   "name": "python",
   "nbconvert_exporter": "python",
   "pygments_lexer": "ipython3",
   "version": "3.10.9"
  }
 },
 "nbformat": 4,
 "nbformat_minor": 5
}
