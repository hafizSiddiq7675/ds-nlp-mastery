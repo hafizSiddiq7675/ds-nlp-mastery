{
 "cells": [
  {
   "cell_type": "markdown",
   "id": "ee8be88d-a9ae-4e31-8a82-c6a5ed3e987c",
   "metadata": {},
   "source": [
    "# What is it?\n",
    "A dictionary is an unordered set of key: value pairs.\n",
    "\n",
    "Avocado Toast is 6 dollars\n",
    "\n",
    "Carrot Juice is 5 dollars\n",
    "\n",
    "Blueberry Muffin is 2 dollars"
   ]
  },
  {
   "cell_type": "code",
   "execution_count": 1,
   "id": "88c66bd2-b05f-4dee-bba0-c6088f36cd21",
   "metadata": {},
   "outputs": [],
   "source": [
    "menu = {\"avocado toast\": 6, \"carrot juice\": 5, \"blueberry muffin\": 2}"
   ]
  },
  {
   "cell_type": "code",
   "execution_count": 2,
   "id": "a5dadb14-5e58-41fc-b2c9-6ea4f35269bd",
   "metadata": {},
   "outputs": [
    {
     "name": "stdout",
     "output_type": "stream",
     "text": [
      "{'living room': 21, 'kitchen': 23, 'bedroom': 20, 'pantry': 22}\n"
     ]
    }
   ],
   "source": [
    "sensors =  {\"living room\": 21, \"kitchen\": 23, \"bedroom\": 20, \"pantry\": 22}\n",
    "num_cameras = {\"backyard\": 6,  \"garage\": 2, \"driveway\": 1}\n",
    "\n",
    "print(sensors)"
   ]
  },
  {
   "cell_type": "code",
   "execution_count": 3,
   "id": "ed6a87d9-6fed-4748-becc-49e8e441dbe1",
   "metadata": {},
   "outputs": [],
   "source": [
    "subtotal_to_total = {20: 24, 10: 12, 5: 6, 15: 18}"
   ]
  },
  {
   "cell_type": "code",
   "execution_count": 4,
   "id": "99afe5e4-c2c4-47fe-9078-cb6cf1f720b3",
   "metadata": {},
   "outputs": [
    {
     "data": {
      "text/plain": [
       "dict"
      ]
     },
     "execution_count": 4,
     "metadata": {},
     "output_type": "execute_result"
    }
   ],
   "source": [
    "type(subtotal_to_total)"
   ]
  },
  {
   "cell_type": "code",
   "execution_count": 5,
   "id": "2efbd520-5bbb-408c-b0b9-933bd4452c77",
   "metadata": {},
   "outputs": [],
   "source": [
    "students_in_classes = {\"software design\": [\"Aaron\", \"Delila\", \"Samson\"], \"cartography\": [\"Christopher\", \"Juan\", \"Marco\"], \"philosophy\": [\"Frederica\", \"Manuel\"]}"
   ]
  },
  {
   "cell_type": "code",
   "execution_count": 6,
   "id": "6127c848-6cfc-4faf-9c42-c4ac8d30b591",
   "metadata": {},
   "outputs": [
    {
     "ename": "TypeError",
     "evalue": "unhashable type: 'list'",
     "output_type": "error",
     "traceback": [
      "\u001b[0;31m---------------------------------------------------------------------------\u001b[0m",
      "\u001b[0;31mTypeError\u001b[0m                                 Traceback (most recent call last)",
      "Cell \u001b[0;32mIn[6], line 1\u001b[0m\n\u001b[0;32m----> 1\u001b[0m powers \u001b[38;5;241m=\u001b[39m {[\u001b[38;5;241m1\u001b[39m, \u001b[38;5;241m2\u001b[39m, \u001b[38;5;241m4\u001b[39m, \u001b[38;5;241m8\u001b[39m, \u001b[38;5;241m16\u001b[39m]: \u001b[38;5;241m2\u001b[39m, [\u001b[38;5;241m1\u001b[39m, \u001b[38;5;241m3\u001b[39m, \u001b[38;5;241m9\u001b[39m, \u001b[38;5;241m27\u001b[39m, \u001b[38;5;241m81\u001b[39m]: \u001b[38;5;241m3\u001b[39m}\n",
      "\u001b[0;31mTypeError\u001b[0m: unhashable type: 'list'"
     ]
    }
   ],
   "source": [
    "powers = {[1, 2, 4, 8, 16]: 2, [1, 3, 9, 27, 81]: 3}"
   ]
  },
  {
   "cell_type": "code",
   "execution_count": 7,
   "id": "0c45cc91-4726-4d4c-baff-e602e5249904",
   "metadata": {},
   "outputs": [],
   "source": [
    "children = {\"von Trapp\": [\"Johannes\", \"Rosmarie\", \"Eleonore\"], \"Corleone\": [\"Sonny\", \"Fredo\", \"Michael\"]}"
   ]
  },
  {
   "cell_type": "markdown",
   "id": "066a93fd-70f5-4b87-bd9d-7a85da442ec7",
   "metadata": {},
   "source": [
    "# Empty Dict"
   ]
  },
  {
   "cell_type": "code",
   "execution_count": 11,
   "id": "83b7f13b-b502-4d2d-b8be-492a2d79a94b",
   "metadata": {},
   "outputs": [],
   "source": [
    "empty_dict = {}"
   ]
  },
  {
   "cell_type": "markdown",
   "id": "57eca2ed-3669-4e49-b29b-9170e0bd7d24",
   "metadata": {},
   "source": [
    "# Add A Key"
   ]
  },
  {
   "cell_type": "code",
   "execution_count": 12,
   "id": "62d907dd-c7e4-4444-97da-5893b8595814",
   "metadata": {},
   "outputs": [],
   "source": [
    "menu = {\"oatmeal\": 3, \"avocado toast\": 6, \"carrot juice\": 5, \"blueberry muffin\": 2}"
   ]
  },
  {
   "cell_type": "code",
   "execution_count": 13,
   "id": "22a1db48-17b0-4a1f-8bf1-2901ecd518a3",
   "metadata": {},
   "outputs": [],
   "source": [
    "menu[\"cheesecake\"] = 8"
   ]
  },
  {
   "cell_type": "code",
   "execution_count": 14,
   "id": "992045e7-fbf0-433a-8a5f-d250641a1a3b",
   "metadata": {},
   "outputs": [
    {
     "name": "stdout",
     "output_type": "stream",
     "text": [
      "{'oatmeal': 3, 'avocado toast': 6, 'carrot juice': 5, 'blueberry muffin': 2, 'cheesecake': 8}\n"
     ]
    }
   ],
   "source": [
    "print(menu)"
   ]
  },
  {
   "cell_type": "markdown",
   "id": "623c3fd7-7dfd-4b85-b829-ec70d793b62b",
   "metadata": {},
   "source": [
    "# Add Multiple Keys\n",
    "If we wanted to add multiple key : value pairs to a dictionary at once, we can use the .update() method."
   ]
  },
  {
   "cell_type": "code",
   "execution_count": 15,
   "id": "cecd6e9f-d3bb-4d80-97f2-0be89252ecb5",
   "metadata": {},
   "outputs": [],
   "source": [
    "sensors = {\"living room\": 21, \"kitchen\": 23, \"bedroom\": 20}\n",
    "sensors.update({\"pantry\": 22, \"guest room\": 25, \"patio\": 34})"
   ]
  },
  {
   "cell_type": "code",
   "execution_count": 16,
   "id": "2505861d-7cb4-4960-82f6-4d233e366033",
   "metadata": {},
   "outputs": [
    {
     "name": "stdout",
     "output_type": "stream",
     "text": [
      "{'living room': 21, 'kitchen': 23, 'bedroom': 20, 'pantry': 22, 'guest room': 25, 'patio': 34}\n"
     ]
    }
   ],
   "source": [
    "print(sensors)"
   ]
  },
  {
   "cell_type": "markdown",
   "id": "c3af2d26-318f-4fcd-8960-c4f0e3bc0329",
   "metadata": {},
   "source": [
    "# Overwrite Values"
   ]
  },
  {
   "cell_type": "code",
   "execution_count": 17,
   "id": "02fc4397-dba7-42e2-a0e4-10b467431c10",
   "metadata": {},
   "outputs": [
    {
     "name": "stdout",
     "output_type": "stream",
     "text": [
      "{'oatmeal': 5, 'avocado toast': 6, 'carrot juice': 5, 'blueberry muffin': 2}\n"
     ]
    }
   ],
   "source": [
    "menu = {\"oatmeal\": 3, \"avocado toast\": 6, \"carrot juice\": 5, \"blueberry muffin\": 2}\n",
    "menu[\"oatmeal\"] = 5\n",
    "print(menu)"
   ]
  },
  {
   "cell_type": "markdown",
   "id": "ba568683-478a-4abc-8859-471753895e2c",
   "metadata": {},
   "source": [
    "# Get A Key\n",
    "Once you have a dictionary, you can access the values in it by providing the key."
   ]
  },
  {
   "cell_type": "code",
   "execution_count": 19,
   "id": "b66daa05-9bd4-4da9-b885-5f20ac929097",
   "metadata": {},
   "outputs": [],
   "source": [
    "building_heights = {\"Burj Khalifa\": 828, \"Shanghai Tower\": 632, \"Abraj Al Bait\": 601, \"Ping An\": 599, \"Lotte World Tower\": 554.5, \"One World Trade\": 541.3}"
   ]
  },
  {
   "cell_type": "code",
   "execution_count": 20,
   "id": "8577fcfc-67fe-4a89-b089-086609aaec5d",
   "metadata": {},
   "outputs": [
    {
     "data": {
      "text/plain": [
       "828"
      ]
     },
     "execution_count": 20,
     "metadata": {},
     "output_type": "execute_result"
    }
   ],
   "source": [
    "building_heights[\"Burj Khalifa\"]"
   ]
  },
  {
   "cell_type": "markdown",
   "id": "881b64c6-1809-45f6-9817-39d383ab9795",
   "metadata": {},
   "source": [
    "# Get an Invalid Key"
   ]
  },
  {
   "cell_type": "code",
   "execution_count": 21,
   "id": "d33c7821-fd83-4897-af3d-d99e06d022a3",
   "metadata": {},
   "outputs": [],
   "source": [
    "building_heights = {\"Burj Khalifa\": 828, \"Shanghai Tower\": 632, \"Abraj Al Bait\": 601, \"Ping An\": 599, \"Lotte World Tower\": 554.5, \"One World Trade\": 541.3}"
   ]
  },
  {
   "cell_type": "code",
   "execution_count": 22,
   "id": "efb84e43-8894-434a-8129-6ae5c546fc1a",
   "metadata": {},
   "outputs": [
    {
     "ename": "KeyError",
     "evalue": "'Landmark 81'",
     "output_type": "error",
     "traceback": [
      "\u001b[0;31m---------------------------------------------------------------------------\u001b[0m",
      "\u001b[0;31mKeyError\u001b[0m                                  Traceback (most recent call last)",
      "Cell \u001b[0;32mIn[22], line 1\u001b[0m\n\u001b[0;32m----> 1\u001b[0m \u001b[38;5;28mprint\u001b[39m(\u001b[43mbuilding_heights\u001b[49m\u001b[43m[\u001b[49m\u001b[38;5;124;43m\"\u001b[39;49m\u001b[38;5;124;43mLandmark 81\u001b[39;49m\u001b[38;5;124;43m\"\u001b[39;49m\u001b[43m]\u001b[49m)\n",
      "\u001b[0;31mKeyError\u001b[0m: 'Landmark 81'"
     ]
    }
   ],
   "source": [
    "print(building_heights[\"Landmark 81\"])"
   ]
  },
  {
   "cell_type": "markdown",
   "id": "8174efd4-7e4a-4004-9011-0ebbf7555f44",
   "metadata": {},
   "source": [
    "# Safely Get a Key\n",
    "use .get() method of the dict"
   ]
  },
  {
   "cell_type": "code",
   "execution_count": 25,
   "id": "4529d86c-0526-4cac-b2bb-87baa1a0d544",
   "metadata": {},
   "outputs": [
    {
     "name": "stdout",
     "output_type": "stream",
     "text": [
      "632\n",
      "None\n"
     ]
    }
   ],
   "source": [
    "building_heights = {\"Burj Khalifa\": 828, \"Shanghai Tower\": 632, \"Abraj Al Bait\": 601, \"Ping An\": 599, \"Lotte World Tower\": 554.5, \"One World Trade\": 541.3}\n",
    " \n",
    "#this line will return 632:\n",
    "print(building_heights.get(\"Shanghai Tower\"))\n",
    " \n",
    "#this line will return None:\n",
    "print(building_heights.get(\"My House\"))"
   ]
  },
  {
   "cell_type": "code",
   "execution_count": 26,
   "id": "2caca707-37c2-4f17-8fe0-888bb46f166c",
   "metadata": {},
   "outputs": [
    {
     "data": {
      "text/plain": [
       "632"
      ]
     },
     "execution_count": 26,
     "metadata": {},
     "output_type": "execute_result"
    }
   ],
   "source": [
    "building_heights.get('Shanghai Tower', 0)"
   ]
  },
  {
   "cell_type": "code",
   "execution_count": 27,
   "id": "a2f902e4-810b-4f72-9d10-f97f4e7c91e1",
   "metadata": {},
   "outputs": [
    {
     "data": {
      "text/plain": [
       "0"
      ]
     },
     "execution_count": 27,
     "metadata": {},
     "output_type": "execute_result"
    }
   ],
   "source": [
    "building_heights.get('Mt Olympus', 0)"
   ]
  },
  {
   "cell_type": "code",
   "execution_count": 28,
   "id": "8d59364d-7502-4ada-8470-db9d7b0beabf",
   "metadata": {},
   "outputs": [
    {
     "data": {
      "text/plain": [
       "'No Value'"
      ]
     },
     "execution_count": 28,
     "metadata": {},
     "output_type": "execute_result"
    }
   ],
   "source": [
    "building_heights.get('Kilimanjaro', 'No Value')"
   ]
  },
  {
   "cell_type": "markdown",
   "id": "77799785-0176-4270-ad82-0743c7b1c4b0",
   "metadata": {},
   "source": [
    "# Delete a Key"
   ]
  },
  {
   "cell_type": "code",
   "execution_count": 29,
   "id": "ce7c1c16-8dbf-48ac-9629-d20f02d45dd3",
   "metadata": {},
   "outputs": [],
   "source": [
    "raffle = {223842: \"Teddy Bear\", 872921: \"Concert Tickets\", 320291: \"Gift Basket\", 412123: \"Necklace\", 298787: \"Pasta Maker\"}"
   ]
  },
  {
   "cell_type": "code",
   "execution_count": 30,
   "id": "189885ce-53e9-45c2-9d72-9d60eb429c37",
   "metadata": {},
   "outputs": [
    {
     "data": {
      "text/plain": [
       "'No Prize'"
      ]
     },
     "execution_count": 30,
     "metadata": {},
     "output_type": "execute_result"
    }
   ],
   "source": [
    "raffle.pop(100000, \"No Prize\")"
   ]
  },
  {
   "cell_type": "code",
   "execution_count": 31,
   "id": "e379b7b4-391c-4079-bc2a-af009bbaf768",
   "metadata": {},
   "outputs": [
    {
     "name": "stdout",
     "output_type": "stream",
     "text": [
      "{223842: 'Teddy Bear', 872921: 'Concert Tickets', 320291: 'Gift Basket', 412123: 'Necklace', 298787: 'Pasta Maker'}\n"
     ]
    }
   ],
   "source": [
    "print(raffle)"
   ]
  },
  {
   "cell_type": "code",
   "execution_count": 32,
   "id": "b2df60d8-2d5f-4419-b2d5-25b12447882d",
   "metadata": {},
   "outputs": [
    {
     "data": {
      "text/plain": [
       "'Concert Tickets'"
      ]
     },
     "execution_count": 32,
     "metadata": {},
     "output_type": "execute_result"
    }
   ],
   "source": [
    "raffle.pop(872921, \"No Prize\")"
   ]
  },
  {
   "cell_type": "code",
   "execution_count": 33,
   "id": "e7ca9cfa-8bd5-42a3-b830-838589658ac2",
   "metadata": {},
   "outputs": [
    {
     "name": "stdout",
     "output_type": "stream",
     "text": [
      "{223842: 'Teddy Bear', 320291: 'Gift Basket', 412123: 'Necklace', 298787: 'Pasta Maker'}\n"
     ]
    }
   ],
   "source": [
    "print(raffle)"
   ]
  },
  {
   "cell_type": "markdown",
   "id": "a2e57846-ce2b-48f1-a0f4-f49dcad8632f",
   "metadata": {},
   "source": [
    "# List All Keys in a dictionary"
   ]
  },
  {
   "cell_type": "code",
   "execution_count": 34,
   "id": "09cc5adb-8763-4ded-bb06-1053f7c49855",
   "metadata": {},
   "outputs": [],
   "source": [
    "test_scores = {\"Grace\":[80, 72, 90], \"Jeffrey\":[88, 68, 81], \"Sylvia\":[80, 82, 84], \"Pedro\":[98, 96, 95], \"Martin\":[78, 80, 78], \"Dina\":[64, 60, 75]}"
   ]
  },
  {
   "cell_type": "code",
   "execution_count": 35,
   "id": "3610e4d4-09fa-4370-a152-df5f066717ae",
   "metadata": {},
   "outputs": [
    {
     "data": {
      "text/plain": [
       "['Grace', 'Jeffrey', 'Sylvia', 'Pedro', 'Martin', 'Dina']"
      ]
     },
     "execution_count": 35,
     "metadata": {},
     "output_type": "execute_result"
    }
   ],
   "source": [
    "list(test_scores)"
   ]
  },
  {
   "cell_type": "code",
   "execution_count": 36,
   "id": "0f91b60b-a45e-4c96-927e-be330da08fb9",
   "metadata": {},
   "outputs": [
    {
     "name": "stdout",
     "output_type": "stream",
     "text": [
      "Grace\n",
      "Jeffrey\n",
      "Sylvia\n",
      "Pedro\n",
      "Martin\n",
      "Dina\n"
     ]
    }
   ],
   "source": [
    "for student in test_scores.keys():\n",
    "  print(student)"
   ]
  },
  {
   "cell_type": "markdown",
   "id": "e5c02934-42a9-4d56-bc28-9aadcdf66c8a",
   "metadata": {},
   "source": [
    "# Get All Values"
   ]
  },
  {
   "cell_type": "code",
   "execution_count": 37,
   "id": "a1385b22-d8ee-410c-867b-b2a5f15f2f00",
   "metadata": {},
   "outputs": [
    {
     "name": "stdout",
     "output_type": "stream",
     "text": [
      "[80, 72, 90]\n",
      "[88, 68, 81]\n",
      "[80, 82, 84]\n",
      "[98, 96, 95]\n",
      "[78, 80, 78]\n",
      "[64, 60, 75]\n"
     ]
    }
   ],
   "source": [
    "test_scores = {\"Grace\":[80, 72, 90], \"Jeffrey\":[88, 68, 81], \"Sylvia\":[80, 82, 84], \"Pedro\":[98, 96, 95], \"Martin\":[78, 80, 78], \"Dina\":[64, 60, 75]}\n",
    " \n",
    "for score_list in test_scores.values():\n",
    "  print(score_list)"
   ]
  },
  {
   "cell_type": "code",
   "execution_count": 38,
   "id": "e7a3a0c9-3b27-4612-b2c1-7d76f288bb88",
   "metadata": {},
   "outputs": [
    {
     "data": {
      "text/plain": [
       "[[80, 72, 90],\n",
       " [88, 68, 81],\n",
       " [80, 82, 84],\n",
       " [98, 96, 95],\n",
       " [78, 80, 78],\n",
       " [64, 60, 75]]"
      ]
     },
     "execution_count": 38,
     "metadata": {},
     "output_type": "execute_result"
    }
   ],
   "source": [
    "list(test_scores.values())"
   ]
  },
  {
   "cell_type": "markdown",
   "id": "57fc7b3b-8764-439c-8f88-5dc43d60fded",
   "metadata": {},
   "source": [
    "# Get All Items"
   ]
  },
  {
   "cell_type": "code",
   "execution_count": 39,
   "id": "8251b2ff-67ec-43d8-926e-61c82d4079dd",
   "metadata": {},
   "outputs": [
    {
     "name": "stdout",
     "output_type": "stream",
     "text": [
      "Apple has a value of 184 billion dollars. \n",
      "Google has a value of 141.7 billion dollars. \n",
      "Microsoft has a value of 80 billion dollars. \n",
      "Coca-Cola has a value of 69.7 billion dollars. \n",
      "Amazon has a value of 64.8 billion dollars. \n"
     ]
    }
   ],
   "source": [
    "biggest_brands = {\"Apple\": 184, \"Google\": 141.7, \"Microsoft\": 80, \"Coca-Cola\": 69.7, \"Amazon\": 64.8}\n",
    " \n",
    "for company, value in biggest_brands.items():\n",
    "  print(company + \" has a value of \" + str(value) + \" billion dollars. \")"
   ]
  },
  {
   "cell_type": "code",
   "execution_count": null,
   "id": "fca02da7-1313-49a9-9734-7920b43f7c91",
   "metadata": {},
   "outputs": [],
   "source": []
  }
 ],
 "metadata": {
  "kernelspec": {
   "display_name": "Python 3 (ipykernel)",
   "language": "python",
   "name": "python3"
  },
  "language_info": {
   "codemirror_mode": {
    "name": "ipython",
    "version": 3
   },
   "file_extension": ".py",
   "mimetype": "text/x-python",
   "name": "python",
   "nbconvert_exporter": "python",
   "pygments_lexer": "ipython3",
   "version": "3.10.9"
  }
 },
 "nbformat": 4,
 "nbformat_minor": 5
}
