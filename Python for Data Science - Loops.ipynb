{
 "cells": [
  {
   "cell_type": "markdown",
   "id": "7a4c98a6-bd0b-49b0-85f6-800818c0b3fd",
   "metadata": {},
   "source": [
    "## Loops are used to repeat a particular tasks\n",
    "### This process is in the 3 steps:-\n",
    "\n",
    "#### initialization, repetitions, and an ending condition it has two types\n",
    "##### Indefinite iteration:- where the number of times the loop is executed depends on how many times a condition is met\n",
    "\n",
    "##### Definite iteration, where the number of times the loop will be executed is defined in advance (usually based on the collection size)."
   ]
  },
  {
   "cell_type": "markdown",
   "id": "39ba112f-8701-4a13-9a9b-150de9a60c1b",
   "metadata": {},
   "source": [
    "# Why Loops"
   ]
  },
  {
   "cell_type": "code",
   "execution_count": 3,
   "id": "b3bf7112-2cf5-4ac4-abd5-d94eaac15efa",
   "metadata": {},
   "outputs": [
    {
     "name": "stdout",
     "output_type": "stream",
     "text": [
      "milk\n",
      "sugar\n",
      "vanilla extract\n",
      "dough\n",
      "chocolate\n"
     ]
    }
   ],
   "source": [
    "ingredients = [\"milk\", \"sugar\", \"vanilla extract\", \"dough\", \"chocolate\"]\n",
    "\n",
    "print(ingredients[0])\n",
    "print(ingredients[1])\n",
    "print(ingredients[2])\n",
    "print(ingredients[3])\n",
    "print(ingredients[4])"
   ]
  },
  {
   "cell_type": "markdown",
   "id": "f260022c-11cb-4f8e-b751-bf28961b0038",
   "metadata": {},
   "source": [
    "If we want to print all elements in the ingredients list we have to type print to the number of elements it has"
   ]
  },
  {
   "cell_type": "markdown",
   "id": "8411c72c-baad-4a9f-81d3-108b40a8c720",
   "metadata": {},
   "source": [
    "## With loops"
   ]
  },
  {
   "cell_type": "code",
   "execution_count": 4,
   "id": "3eae6040-aeed-4e15-926a-e971a9824e09",
   "metadata": {},
   "outputs": [
    {
     "name": "stdout",
     "output_type": "stream",
     "text": [
      "milk\n",
      "sugar\n",
      "vanilla extract\n",
      "dough\n",
      "chocolate\n"
     ]
    }
   ],
   "source": [
    "for ingredient in ingredients:\n",
    "    print(ingredient)"
   ]
  },
  {
   "cell_type": "markdown",
   "id": "94b8f952-83f9-4e61-9834-934ba7598b3c",
   "metadata": {},
   "source": [
    "# For Loop Introduction"
   ]
  },
  {
   "cell_type": "markdown",
   "id": "09b51c75-f13d-4e48-9809-c60a6476f935",
   "metadata": {},
   "source": [
    "## Syntax"
   ]
  },
  {
   "cell_type": "raw",
   "id": "eaedf42b-87dc-4ad5-aba1-76041e20a9cd",
   "metadata": {},
   "source": [
    "for <temporary variable> in <collection>:\n",
    "  <action>"
   ]
  },
  {
   "cell_type": "markdown",
   "id": "d47bd65c-727b-4d9a-876b-1355674a6703",
   "metadata": {},
   "source": [
    "## For Loops: Using Range"
   ]
  },
  {
   "cell_type": "code",
   "execution_count": 5,
   "id": "80fc16c1-b82f-4a54-8820-1c89922830c3",
   "metadata": {},
   "outputs": [
    {
     "name": "stdout",
     "output_type": "stream",
     "text": [
      "I will finish the python loops module!\n",
      "I will finish the python loops module!\n",
      "I will finish the python loops module!\n",
      "I will finish the python loops module!\n",
      "I will finish the python loops module!\n"
     ]
    }
   ],
   "source": [
    "promise = \"I will finish the python loops module!\"\n",
    "\n",
    "for temp in range(5): \n",
    "  print(promise)"
   ]
  },
  {
   "cell_type": "markdown",
   "id": "d6c1d89c-fe23-4953-8b1a-722f0969f3a8",
   "metadata": {},
   "source": [
    "## While Loops"
   ]
  },
  {
   "cell_type": "raw",
   "id": "3de21649-c5f4-4005-aae8-153017096a2f",
   "metadata": {},
   "source": [
    "while <conditional statement>:\n",
    "  <action>"
   ]
  },
  {
   "cell_type": "code",
   "execution_count": 6,
   "id": "9f9c362a-c845-466d-94a2-287cee481299",
   "metadata": {},
   "outputs": [
    {
     "name": "stdout",
     "output_type": "stream",
     "text": [
      "0\n",
      "1\n",
      "2\n",
      "3\n"
     ]
    }
   ],
   "source": [
    "count = 0\n",
    "while count <= 3:\n",
    "  # Loop Body\n",
    "  print(count)\n",
    "  count += 1"
   ]
  },
  {
   "cell_type": "code",
   "execution_count": 7,
   "id": "4f538242-2192-4ff1-adea-d78126bec4e2",
   "metadata": {},
   "outputs": [
    {
     "name": "stdout",
     "output_type": "stream",
     "text": [
      "I am learning about variables\n",
      "I am learning about control flow\n",
      "I am learning about loops\n",
      "I am learning about modules\n",
      "I am learning about classes\n"
     ]
    }
   ],
   "source": [
    "python_topics = [\"variables\", \"control flow\", \"loops\", \"modules\", \"classes\"]\n",
    "\n",
    "length = len(python_topics)\n",
    "index = 0 \n",
    "\n",
    "\n",
    "while index < length:\n",
    "  print(\"I am learning about\", python_topics[index])\n",
    "  index += 1"
   ]
  },
  {
   "cell_type": "markdown",
   "id": "5eadc5f7-7f4a-455f-ad14-bf2e2224b974",
   "metadata": {},
   "source": [
    "### Infinite Loops"
   ]
  },
  {
   "cell_type": "code",
   "execution_count": 8,
   "id": "16f6dfce-f3f0-41f0-8b88-c92dfbdba37c",
   "metadata": {},
   "outputs": [
    {
     "ename": "KeyboardInterrupt",
     "evalue": "",
     "output_type": "error",
     "traceback": [
      "\u001b[0;31m---------------------------------------------------------------------------\u001b[0m",
      "\u001b[0;31mKeyboardInterrupt\u001b[0m                         Traceback (most recent call last)",
      "Cell \u001b[0;32mIn[8], line 4\u001b[0m\n\u001b[1;32m      1\u001b[0m my_favorite_numbers \u001b[38;5;241m=\u001b[39m [\u001b[38;5;241m4\u001b[39m, \u001b[38;5;241m8\u001b[39m, \u001b[38;5;241m15\u001b[39m, \u001b[38;5;241m16\u001b[39m, \u001b[38;5;241m42\u001b[39m]\n\u001b[1;32m      3\u001b[0m \u001b[38;5;28;01mfor\u001b[39;00m number \u001b[38;5;129;01min\u001b[39;00m my_favorite_numbers:\n\u001b[0;32m----> 4\u001b[0m   \u001b[43mmy_favorite_numbers\u001b[49m\u001b[38;5;241;43m.\u001b[39;49m\u001b[43mappend\u001b[49m\u001b[43m(\u001b[49m\u001b[38;5;241;43m1\u001b[39;49m\u001b[43m)\u001b[49m\n",
      "\u001b[0;31mKeyboardInterrupt\u001b[0m: "
     ]
    }
   ],
   "source": [
    "my_favorite_numbers = [4, 8, 15, 16, 42]\n",
    " \n",
    "for number in my_favorite_numbers:\n",
    "  my_favorite_numbers.append(1)"
   ]
  },
  {
   "cell_type": "markdown",
   "id": "ded07af0-52ed-4952-8526-e1fd88a1b3bc",
   "metadata": {},
   "source": [
    "A loop that never terminates is called an infinite loop. These are very dangerous for our code because they will make our program run forever and thus consume all of your computer’s resources."
   ]
  },
  {
   "cell_type": "markdown",
   "id": "d784a895-08c6-43ee-9b2c-cd6b7548fc86",
   "metadata": {},
   "source": [
    "### Loop Control: Break"
   ]
  },
  {
   "cell_type": "code",
   "execution_count": 12,
   "id": "cda4d8c5-91ed-4785-a470-c3da8cb0ca4b",
   "metadata": {},
   "outputs": [
    {
     "name": "stdout",
     "output_type": "stream",
     "text": [
      "End of search\n"
     ]
    }
   ],
   "source": [
    "items_on_sale = [\"blue shirt\", \"striped socks\", \"knit dress\", \"red headband\", \"dinosaur onesie\"]\n",
    "for item in items_on_sale:\n",
    "  if item == \"knit dress\":\n",
    "    break\n",
    "    \n",
    "print(\"End of search\")"
   ]
  },
  {
   "cell_type": "markdown",
   "id": "ff6dd9a9-d7f1-4e30-b4fa-a3632c23bc35",
   "metadata": {},
   "source": [
    "### continue\n",
    "\n",
    "Use Case: Let's assume we have big_number_list = [1, 2, -1, 4, -5, 5, 2, -9] we want to print all of the positive\n",
    "\n",
    "There are many other use cases as well"
   ]
  },
  {
   "cell_type": "code",
   "execution_count": 16,
   "id": "e0bf562e-590d-48dc-be1d-8c709d037422",
   "metadata": {},
   "outputs": [
    {
     "name": "stdout",
     "output_type": "stream",
     "text": [
      "1\n",
      "2\n",
      "4\n",
      "5\n",
      "2\n"
     ]
    }
   ],
   "source": [
    "big_number_list = [1, 2, -1, 4, -5, 5, 2, -9]\n",
    "\n",
    "for i in big_number_list:\n",
    "  if i <= 0:\n",
    "    continue\n",
    "  print(i)"
   ]
  },
  {
   "cell_type": "markdown",
   "id": "e211f473-f11d-4d8a-abfe-166e56cab2fd",
   "metadata": {},
   "source": [
    "### Nested Loops \n",
    "A loop within a loop is called nested loop"
   ]
  },
  {
   "cell_type": "code",
   "execution_count": 19,
   "id": "a85a3972-de92-4a1d-8ac9-f8d791f1fc65",
   "metadata": {},
   "outputs": [
    {
     "name": "stdout",
     "output_type": "stream",
     "text": [
      "[4, -2, 158, 66, -90]\n"
     ]
    }
   ],
   "source": [
    "numbers = [2, -1, 79, 33, -45]\n",
    "doubled = []\n",
    " \n",
    "for number in numbers:\n",
    "  doubled.append(number * 2)\n",
    " \n",
    "print(doubled)"
   ]
  },
  {
   "cell_type": "code",
   "execution_count": 18,
   "id": "7fa30155-548d-455f-91b5-fc4756b96a0c",
   "metadata": {},
   "outputs": [
    {
     "name": "stdout",
     "output_type": "stream",
     "text": [
      "['Ava', 'Samantha', 'James']\n",
      "['Lucille', 'Zed']\n",
      "['Edgar', 'Gabriel']\n",
      "Ava\n",
      "Samantha\n",
      "James\n",
      "Lucille\n",
      "Zed\n",
      "Edgar\n",
      "Gabriel\n"
     ]
    }
   ],
   "source": [
    "project_teams = [[\"Ava\", \"Samantha\", \"James\"], [\"Lucille\", \"Zed\"], [\"Edgar\", \"Gabriel\"]]\n",
    "\n",
    "for team in project_teams:\n",
    "  print(team)\n",
    "\n",
    "for team in project_teams:\n",
    "  # Loop elements in each sublist\n",
    "  for student in team:\n",
    "    print(student)"
   ]
  },
  {
   "cell_type": "markdown",
   "id": "011d4d67-b94c-422b-8058-aa55687639ba",
   "metadata": {},
   "source": [
    "### List Comprehensions: Introduction"
   ]
  },
  {
   "cell_type": "code",
   "execution_count": 20,
   "id": "141e0ca5-5f76-4535-8a17-1773f6431254",
   "metadata": {},
   "outputs": [
    {
     "name": "stdout",
     "output_type": "stream",
     "text": [
      "[4, -2, 158, 66, -90]\n"
     ]
    }
   ],
   "source": [
    "numbers = [2, -1, 79, 33, -45]\n",
    "doubled = [num * 2 for num in numbers]\n",
    "print(doubled)"
   ]
  },
  {
   "cell_type": "raw",
   "id": "8e6029d4-cf1f-4f26-b4c7-c18dd7c408cf",
   "metadata": {},
   "source": [
    "new_list = [<expression> for <element> in <collection>]"
   ]
  },
  {
   "cell_type": "markdown",
   "id": "2f33d5be-be2d-41c2-ac3f-d2e4a68df555",
   "metadata": {},
   "source": [
    "### List Comprehensions: Conditionals"
   ]
  },
  {
   "cell_type": "code",
   "execution_count": 21,
   "id": "e1e44f48-efd5-4fb0-a161-747c8c86b860",
   "metadata": {},
   "outputs": [
    {
     "name": "stdout",
     "output_type": "stream",
     "text": [
      "[-2, -90]\n"
     ]
    }
   ],
   "source": [
    "numbers = [2, -1, 79, 33, -45]\n",
    "only_negative_doubled = []\n",
    " \n",
    "for num in numbers:\n",
    "  if num < 0: \n",
    "    only_negative_doubled.append(num * 2)\n",
    " \n",
    "print(only_negative_doubled)"
   ]
  },
  {
   "cell_type": "code",
   "execution_count": 22,
   "id": "4f75aa81-f570-4b3b-a48b-02b792f65deb",
   "metadata": {},
   "outputs": [
    {
     "name": "stdout",
     "output_type": "stream",
     "text": [
      "[-2, -90]\n"
     ]
    }
   ],
   "source": [
    "numbers = [2, -1, 79, 33, -45]\n",
    "negative_doubled = [num * 2 for num in numbers if num < 0]\n",
    "print(negative_doubled)"
   ]
  },
  {
   "cell_type": "code",
   "execution_count": 1,
   "id": "076cfe90-b516-4085-8863-37e0d15fb9b0",
   "metadata": {},
   "outputs": [
    {
     "name": "stdout",
     "output_type": "stream",
     "text": [
      "no_if [4, -2, 158, 66, -90]\n",
      "if_only [-2, -90]\n",
      "if_else [6, -2, 237, 99, -90]\n"
     ]
    }
   ],
   "source": [
    "numbers = [2, -1, 79, 33, -45]\n",
    " \n",
    "no_if   = [num * 2 for num in numbers]\n",
    "if_only = [num * 2 for num in numbers if num < 0]\n",
    "if_else = [num * 2 if num < 0 else num * 3 for num in numbers]\n",
    "\n",
    "print(\"no_if\", no_if)\n",
    "\n",
    "print(\"if_only\", if_only)\n",
    "\n",
    "print(\"if_else\", if_else)"
   ]
  }
 ],
 "metadata": {
  "kernelspec": {
   "display_name": "Python 3 (ipykernel)",
   "language": "python",
   "name": "python3"
  },
  "language_info": {
   "codemirror_mode": {
    "name": "ipython",
    "version": 3
   },
   "file_extension": ".py",
   "mimetype": "text/x-python",
   "name": "python",
   "nbconvert_exporter": "python",
   "pygments_lexer": "ipython3",
   "version": "3.10.9"
  }
 },
 "nbformat": 4,
 "nbformat_minor": 5
}
